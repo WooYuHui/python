{
 "cells": [
  {
   "cell_type": "code",
   "execution_count": 1,
   "id": "d4c6efad",
   "metadata": {
    "scrolled": true
   },
   "outputs": [
    {
     "name": "stdout",
     "output_type": "stream",
     "text": [
      "달러를 입력하시오:100 달러\n",
      "116700 원\n"
     ]
    }
   ],
   "source": [
    "# 123 \n",
    "\n",
    "\n",
    "\n",
    "money_dollar = input('달러를 입력하시오:')\n",
    "money_list = money_dollar.split(' ')\n",
    "calculate =int(money_list[0])\n",
    "print(calculate * 1167, '원')\n",
    "\n",
    "\n",
    "# 사용자로부터 100 달러, 1000 엔, 13 유로, 100 위안 이런식으로 입력 받은 후 \n",
    "# 원으로 변환하는 프로그램 작성 \n",
    "# 연산을 해야하니까 int로 바꿔야 하는데, 띄어쓰기 이후에 문자가 있다.\n",
    "# 띄어쓰기 앞은 숫자로, 띄어쓰기 뒤는 문자로 처리 \n",
    "\n",
    "# 첫번째 시도 : * 글자가 1167번 나옴\n",
    "# 두번째 시도 : int로 바꿨는데 띄어쓰기 후 문자 적어야 하니까 적용 안됨.\n",
    "# \n",
    "\n",
    "\n",
    "# key : split \n",
    "# split() 함수는 문자열에서 특정 문자를 기준으로 좌, 우로 끊은 뒤 리스트로 반환\n",
    "# str.split('기준 문자') -> 인덱스 활용 \n"
   ]
  },
  {
   "cell_type": "code",
   "execution_count": 2,
   "id": "46eb6b7f",
   "metadata": {
    "scrolled": true
   },
   "outputs": [
    {
     "name": "stdout",
     "output_type": "stream",
     "text": [
      "환전할 금액을 입력:100 달러\n",
      "116700\n"
     ]
    }
   ],
   "source": [
    "money_dollar = input('환전할 금액을 입력:') # 환전할 돈을 입력\n",
    "money_list = money_dollar.split(' ')  # 공백을 기준으로 나누고 리스트로 변환\n",
    "calculate =int(money_list[0])  # 인덱스 0번째 자리를 정수형 변환 \n",
    "\n",
    "환율 = {\"달러\": 1167, \n",
    "        \"엔\": 1.096, \n",
    "        \"유로\": 1268, \n",
    "        \"위안\": 171}\n",
    "\n",
    "print(calculate * 환율[money_list[1]])"
   ]
  },
  {
   "cell_type": "code",
   "execution_count": 3,
   "id": "45bd0073",
   "metadata": {},
   "outputs": [],
   "source": [
    "# if를 쓰는건가? 근데 if를 쓰기에는 문장이 엄청 짧았는데 \n",
    "# 뭔가 빈칸안에 저 문자열이 들어가는 코드를 작성하는 것 같은데 \n",
    "# 딕셔너리 key - vlaue 개념이 필요할 것 같음 \n",
    "# values()로 지정을 하면 환율 값들의 요소들을 반환하므로 인덱스로 지정해줘야 함 "
   ]
  },
  {
   "cell_type": "code",
   "execution_count": 4,
   "id": "296681e5",
   "metadata": {},
   "outputs": [
    {
     "name": "stdout",
     "output_type": "stream",
     "text": [
      "number1: 3\n",
      "number2: 4\n",
      "number3: 5\n",
      "['3', '4', '5']\n",
      "5\n"
     ]
    }
   ],
   "source": [
    "# 124 \n",
    "\n",
    "number_list = []\n",
    "\n",
    "a = input('number1: ') \n",
    "number_list.append(a)\n",
    "\n",
    "b = input('number2: ')\n",
    "number_list.append(b)\n",
    "\n",
    "c = input('number3: ')\n",
    "number_list.append(c)    \n",
    "\n",
    "print(number_list)\n",
    "number_list.sort(reverse = True)\n",
    "print(number_list[0])\n",
    "    \n",
    "# 빈 리스트 생성 -> 숫자를 리스트에 하나씩 넣어주기 ->\n",
    "# 오름차순 -> 인덱스 0번 출력    \n",
    "# 입력 받은 값을 리스트에 넣기 :     "
   ]
  },
  {
   "cell_type": "code",
   "execution_count": 5,
   "id": "134b13f9",
   "metadata": {},
   "outputs": [
    {
     "name": "stdout",
     "output_type": "stream",
     "text": [
      "휴대전화 번호 입력 : 010-2032-1322\n",
      "['010', '2032', '1322']\n",
      "알수없음.\n"
     ]
    }
   ],
   "source": [
    "# 125 \n",
    "\n",
    "number = input('휴대전화 번호 입력 : ')\n",
    "number_list = number.split('-')\n",
    "print(number_list)\n",
    "\n",
    "if number_list[0] == '011' :\n",
    "    print('당신은 SKT 사용자입니다.')\n",
    "elif number_list[0] == '016' :\n",
    "    print('당신은 KT 사용자입니다.')    \n",
    "elif number_list[0] == '019' :\n",
    "    print('당신은 LGU 사용자입니다.')    \n",
    "elif number_list[0] == '010' :\n",
    "    print('알수없음.')    \n",
    "else :\n",
    "    print('다시 입력해주세요')  \n",
    "\n",
    "# split으로 - 기준으로 분할 (자동으로 리스트 반환) -> 할당받을 리스트를 따로 지정!!\n",
    "# 리스트 슬라이싱 이용 -> if 문 이용 \n",
    "# else 는 조건을 가질 필요없음 \n"
   ]
  },
  {
   "cell_type": "code",
   "execution_count": 6,
   "id": "36e87318",
   "metadata": {},
   "outputs": [
    {
     "name": "stdout",
     "output_type": "stream",
     "text": [
      "우편번호 : 2342342342\n",
      "도봉구\n"
     ]
    }
   ],
   "source": [
    "# 126 \n",
    "\n",
    "number = input('우편번호 : ')\n",
    "number_index = number[2]\n",
    "\n",
    "if number_index in ['0','1','2'] :\n",
    "    print('강북구')\n",
    "elif number_index in ['3','4','5'] :\n",
    "    print('도봉구')\n",
    "elif number_index in ['6','7','8','9'] :\n",
    "    print('도봉구')\n",
    "else :\n",
    "    print('다시 입력해주세요.')\n",
    "    \n",
    "    \n",
    "# 문자열 인덱스 \n",
    "# == 연산자로 여러값을 동시에 비교할 수 없다. -> in 을 사용하여 리스트 이용 "
   ]
  },
  {
   "cell_type": "code",
   "execution_count": 7,
   "id": "2de3e9ac",
   "metadata": {},
   "outputs": [
    {
     "name": "stdout",
     "output_type": "stream",
     "text": [
      "주민등록번호:23424234234\n",
      "4\n",
      "여자\n"
     ]
    }
   ],
   "source": [
    "# 127 \n",
    "\n",
    "number = input('주민등록번호:')\n",
    "print(number[7])\n",
    "\n",
    "if number[7] in ['1','3'] :\n",
    "    print('남자')\n",
    "    \n",
    "elif number[7] in ['2','4'] :\n",
    "    print('여자')\n",
    "\n",
    "\n",
    "else : \n",
    "    print('다시 입력해주세요.')\n",
    "    \n",
    "# 문자열로 계산 "
   ]
  },
  {
   "cell_type": "code",
   "execution_count": 8,
   "id": "af72cbfd",
   "metadata": {},
   "outputs": [
    {
     "name": "stdout",
     "output_type": "stream",
     "text": [
      "주민등록번호:32423423\n"
     ]
    },
    {
     "ename": "IndexError",
     "evalue": "list index out of range",
     "output_type": "error",
     "traceback": [
      "\u001b[1;31m---------------------------------------------------------------------------\u001b[0m",
      "\u001b[1;31mIndexError\u001b[0m                                Traceback (most recent call last)",
      "Cell \u001b[1;32mIn[8], line 4\u001b[0m\n\u001b[0;32m      1\u001b[0m \u001b[38;5;66;03m# 128\u001b[39;00m\n\u001b[0;32m      3\u001b[0m number \u001b[38;5;241m=\u001b[39m \u001b[38;5;28minput\u001b[39m(\u001b[38;5;124m'\u001b[39m\u001b[38;5;124m주민등록번호:\u001b[39m\u001b[38;5;124m'\u001b[39m)\n\u001b[1;32m----> 4\u001b[0m number_list \u001b[38;5;241m=\u001b[39m number\u001b[38;5;241m.\u001b[39msplit(\u001b[38;5;124m'\u001b[39m\u001b[38;5;124m-\u001b[39m\u001b[38;5;124m'\u001b[39m)[\u001b[38;5;241m1\u001b[39m]   \u001b[38;5;66;03m# split로 주민등록번호 뒷자리만 출력 \u001b[39;00m\n\u001b[0;32m      5\u001b[0m \u001b[38;5;28mprint\u001b[39m(number_list)\n\u001b[0;32m      8\u001b[0m \u001b[38;5;66;03m# 사용하는 뒷자리 부분 인덱싱 \u001b[39;00m\n\u001b[0;32m      9\u001b[0m \u001b[38;5;66;03m# 그냥 in 쓰고 싶은데 이진수때매 계속 막히니까 다른 방법을 찾아야 함 \u001b[39;00m\n\u001b[0;32m     10\u001b[0m \u001b[38;5;66;03m# 서울하고 부산을 나눌 수 있는게 뭐가 있을까, 두 지역 코드의 차이점은?\u001b[39;00m\n\u001b[0;32m     11\u001b[0m \u001b[38;5;66;03m# 앞자리가 0이고, 뒷자리가 8이하인가 = 서울\u001b[39;00m\n\u001b[0;32m     12\u001b[0m \u001b[38;5;66;03m# 앞자리가 0인데 뒷자리가 9이상이거나 앞자리가 1\u001b[39;00m\n",
      "\u001b[1;31mIndexError\u001b[0m: list index out of range"
     ]
    }
   ],
   "source": [
    "# 128\n",
    "\n",
    "number = input('주민등록번호:')\n",
    "number_list = number.split('-')[1]   # split로 주민등록번호 뒷자리만 출력 \n",
    "print(number_list)\n",
    "\n",
    "\n",
    "# 사용하는 뒷자리 부분 인덱싱 \n",
    "# 그냥 in 쓰고 싶은데 이진수때매 계속 막히니까 다른 방법을 찾아야 함 \n",
    "# 서울하고 부산을 나눌 수 있는게 뭐가 있을까, 두 지역 코드의 차이점은?\n",
    "# 앞자리가 0이고, 뒷자리가 8이하인가 = 서울\n",
    "# 앞자리가 0인데 뒷자리가 9이상이거나 앞자리가 1\n",
    "\n",
    "if number_list[0] == '0' :\n",
    "    if number_list[1] <= '8' :\n",
    "        print('서울 입니다.')\n",
    "    else : \n",
    "        print('서울이 아닙니다.')\n",
    "\n",
    "elif number_list[0] == '1' :\n",
    "    if number_list[1] in ['0','1','2'] :\n",
    "        print('서울 입니다.')\n",
    "    else: \n",
    "        print('서울이 아닙니다.')\n",
    "        \n",
    "else : \n",
    "    print('다시 입력해주세요.')\n",
    "    \n",
    "\n",
    "\n",
    "\n",
    "# range 함수 사용 : 연속된 숫자들을 만들어내는데 사용되는 내장 함수 \n",
    "# 슬라이싱 밖에 안 떠오르는데 이진수인가 뭔가 때문에 코드는 안 만들어짐\n",
    "# 답지에서 사용한 것 split 함수와 index [-3]\n",
    "# 문자열로 입력하는 곳 주의"
   ]
  },
  {
   "cell_type": "code",
   "execution_count": null,
   "id": "bc388e4b",
   "metadata": {},
   "outputs": [],
   "source": [
    "# if 0 <= int(뒷자리[1:3]) <= 8:\n",
    "# 핵심 Key는 슬라이싱 한 부분은 int로 정수형 변환해서 정수형 연산을 이용했다.\n",
    "# 나는 문자열의 슬라이싱 비교에서 사고가 그쳤고, 정수형 변환 생각 하지 못함."
   ]
  },
  {
   "cell_type": "code",
   "execution_count": null,
   "id": "7ed8fe89",
   "metadata": {},
   "outputs": [],
   "source": [
    "# 129\n",
    "\n",
    "# 주민등록번호는 13자리 구성, 마지막 자리수는 주민등록번호 유효성 \n",
    "# 앞의 12자리 숫자에 2,3,4,5,6,7,8,9,2,3,4,5 를 차례대로 곱한 뒤, 그 값 전부 더하기 \n",
    "# 11 - 연산 결과 값을 11로 나눈 나머지 = 주민등록번호의 마지막 번호 "
   ]
  },
  {
   "cell_type": "code",
   "execution_count": null,
   "id": "8c8b69aa",
   "metadata": {},
   "outputs": [],
   "source": [
    "# 파이썬 나누기 연산 \n",
    "# 나누기 / \n",
    "print(2/3)\n",
    "\n",
    "# 몫\n",
    "print(3//2)\n",
    "\n",
    "# 나머지 값 % 연산자\n",
    "print(2%3)"
   ]
  },
  {
   "cell_type": "code",
   "execution_count": 17,
   "id": "6a041f62",
   "metadata": {},
   "outputs": [
    {
     "name": "stdout",
     "output_type": "stream",
     "text": [
      "주민번호를 입력하세요:821010-1635214\n",
      "821010-1635214\n",
      "계산결과 128\n",
      "유효한 주민등록번호입니다\n"
     ]
    }
   ],
   "source": [
    "# 129\n",
    "# 아니 이게 초보자 문제라고..? 내가 이걸 어케 풀어 ㅠㅠ 그냥 지피티 돌려버리고 싶다.\n",
    "\n",
    "users = input('주민번호를 입력하세요:')\n",
    "print(users) # 일단 주민번호를 입력받자\n",
    "# 힌트를 봤는데 노가다 느낌이 많이 났음\n",
    "\n",
    "# 이건 - 를 기준으로 앞뒤 모두 이용하므로 굳이 split() 함수를 쓸 필요없다고 느낌\n",
    "# 연산을 하려면 input()은 문자열 형식으로 받았으므로 int() 로 변환해야 함\n",
    "\n",
    "plus = int(users[0])*2 + int(users[1])*3 + int(users[2])*4  + int(users[3])*5 +\\\n",
    "int(users[4])*6 + int(users[5])*7 + int(users[7])*8 + int(users[8])*9 +\\\n",
    "int(users[9])*2 + int(users[10])*3 + int(users[11])*4 + int(users[12])*5 \n",
    "print(\"계산결과\",plus)\n",
    "\n",
    "last = 11 - plus % 11 \n",
    "\n",
    "\n",
    "if users[-1] == str(last) :\n",
    "    print('유효한 주민등록번호입니다')\n",
    "else : \n",
    "    print('유효하지 않은 주민등록번호입니다.')\n",
    "    \n",
    "    \n",
    "# last를 문자열로 변환하는 이유는 값 비교 용이 \n",
    "# 정수형 인덱스 연산은 불가능 \n",
    "# 두 값을 비교하려면 타입을 맞춰줘야 합니다. "
   ]
  },
  {
   "cell_type": "code",
   "execution_count": null,
   "id": "d2e054ea",
   "metadata": {},
   "outputs": [],
   "source": [
    "users = input('주민번호를 입력하세요: ')\n",
    "\n",
    "if len(users) == 13:\n",
    "    plus = int(users[0]) * 2 + int(users[1]) * 3 + int(users[2]) * 4 + int(users[3]) * 5 + \\\n",
    "           int(users[4]) * 6 + int(users[5]) * 7 + int(users[7]) * 8 + int(users[8]) * 9 + \\\n",
    "           int(users[9]) * 2 + int(users[10]) * 3 + int(users[11]) * 4 + int(users[12]) * 5\n",
    "    print(\"계산 결과:\", plus)\n",
    "else:\n",
    "    print(\"올바른 주민번호를 입력하세요.\")\n",
    "    "
   ]
  },
  {
   "cell_type": "code",
   "execution_count": 27,
   "id": "362e2600",
   "metadata": {
    "scrolled": false
   },
   "outputs": [
    {
     "name": "stdout",
     "output_type": "stream",
     "text": [
      "상승장\n"
     ]
    }
   ],
   "source": [
    "# 130\n",
    "\n",
    "# 아 문제를 본 후로 되게 하.. 이걸 어케 풀지라는 막연함이 오는게 ㅠㅠ\n",
    "\n",
    "import requests\n",
    "btc = requests.get(\"https://api.bithumb.com/public/ticker/\").json()['data']\n",
    "\n",
    "# 아래 코드는 비트코인의 가격 정보를 딕셔너리로 가져오는 코드이다.\n",
    "# btc 딕셔너리 안에는 시가,종가,최고가,최저가 등이 저장 \n",
    "# 최저가 - 최고가의 차이를 변동폭으로 정의 \n",
    "# 시가 + 변동폭 > 최고가 = 상승장, 그렇지 않으면 하락장 \n",
    "\n",
    "최고가 = float(btc['max_price'])  # 최고가 \n",
    "최저가 = float(btc['min_price'])  # 최저가 \n",
    "변동폭 = 최고가 - 최저가\n",
    "\n",
    "시가 = float(btc['opening_price'])    # 시가\n",
    "종가 = float(btc['closing_price'])   # 종가 \n",
    "\n",
    "if 변동폭 + 시가 > 최고가 : \n",
    "    print('상승장')\n",
    "    \n",
    "else :\n",
    "    print('하락장')\n",
    "    \n",
    "    \n",
    "# 딕셔너리는 키 사용이 핵심이다. \n",
    "# -> 값을 알려면 dict[key]\n",
    "\n",
    "# 반환하는 데이터가 일반적으로 문자열 형태로 제공된다.\n",
    "# -> 키에 해당하는 값을 가져와서 실수형 float 변환 후 변수에 할당 \n",
    "\n",
    "# key name 에 '' 붙여주기 "
   ]
  },
  {
   "cell_type": "code",
   "execution_count": 23,
   "id": "8ff07087",
   "metadata": {},
   "outputs": [
    {
     "name": "stdout",
     "output_type": "stream",
     "text": [
      "상승장\n"
     ]
    }
   ],
   "source": [
    "import requests\n",
    "btc = requests.get(\"https://api.bithumb.com/public/ticker/\").json()['data']\n",
    "\n",
    "변동폭 = float(btc['max_price']) - float(btc['min_price'])\n",
    "시가 = float(btc['opening_price'])\n",
    "최고가 = float(btc['max_price'])\n",
    "\n",
    "if (시가+변동폭) > 최고가:\n",
    "    print(\"상승장\")\n",
    "else:\n",
    "    print(\"하락장\")"
   ]
  },
  {
   "cell_type": "code",
   "execution_count": null,
   "id": "2c72413d",
   "metadata": {},
   "outputs": [],
   "source": [
    "# 131 \n",
    "\n",
    "과일 = [\"사과\", \"귤\", \"수박\"]\n",
    "for 변수 in 과일:\n",
    "    print(변수)\n",
    "\n",
    "# 사과,  귤, 수박       "
   ]
  },
  {
   "cell_type": "code",
   "execution_count": null,
   "id": "3b58e0a0",
   "metadata": {},
   "outputs": [],
   "source": [
    "# 132 \n",
    "\n",
    "과일 = [\"사과\", \"귤\", \"수박\"]\n",
    "for 변수 in 과일:\n",
    "  print(\"#####\")\n",
    "\n",
    "#### \n",
    "\n",
    "# for문의 핵심은 '들여쓰기된 코드가 자료구조에 저장된 데이터 개수만큼 반복된다.'"
   ]
  },
  {
   "cell_type": "code",
   "execution_count": null,
   "id": "60945dfb",
   "metadata": {},
   "outputs": [],
   "source": [
    "# 133\n",
    "\n",
    "print('A')\n",
    "print('B')\n",
    "Print('C')"
   ]
  },
  {
   "cell_type": "code",
   "execution_count": null,
   "id": "a23560f7",
   "metadata": {},
   "outputs": [],
   "source": [
    "# 134\n",
    "\n",
    "print('출력: A')\n",
    "print('출력: A')\n",
    "print('출력: A')"
   ]
  },
  {
   "cell_type": "code",
   "execution_count": null,
   "id": "d6ffd2fa",
   "metadata": {},
   "outputs": [],
   "source": [
    "# 135\n",
    "\n",
    "print('변환','a')\n",
    "print('변환','b')\n",
    "print('변환','c')"
   ]
  },
  {
   "cell_type": "code",
   "execution_count": 2,
   "id": "f1d77cad",
   "metadata": {},
   "outputs": [
    {
     "name": "stdout",
     "output_type": "stream",
     "text": [
      "10\n",
      "20\n",
      "30\n"
     ]
    }
   ],
   "source": [
    "# 136 \n",
    "\n",
    "변수 = [10,20,30]\n",
    "for 변수 in number:\n",
    "    print(변수)\n"
   ]
  },
  {
   "cell_type": "code",
   "execution_count": 3,
   "id": "117a2ca4",
   "metadata": {},
   "outputs": [
    {
     "name": "stdout",
     "output_type": "stream",
     "text": [
      "10\n",
      "20\n",
      "30\n"
     ]
    }
   ],
   "source": [
    "# 137\n",
    "\n",
    "i = [10,20,30]\n",
    "for i in number:\n",
    "    print(i)\n"
   ]
  },
  {
   "cell_type": "code",
   "execution_count": 6,
   "id": "318cf806",
   "metadata": {},
   "outputs": [
    {
     "name": "stdout",
     "output_type": "stream",
     "text": [
      "10\n",
      "-------\n",
      "20\n",
      "-------\n",
      "30\n",
      "-------\n"
     ]
    }
   ],
   "source": [
    "# 138\n",
    "\n",
    "number = [10,20,30]\n",
    "\n",
    "for i in number:\n",
    "    print(i)\n",
    "    print(\"-------\")"
   ]
  },
  {
   "cell_type": "code",
   "execution_count": 8,
   "id": "126f82a9",
   "metadata": {},
   "outputs": [
    {
     "name": "stdout",
     "output_type": "stream",
     "text": [
      "++++\n",
      "10\n",
      "20\n",
      "30\n"
     ]
    }
   ],
   "source": [
    "# 139\n",
    "\n",
    "number = [10,20,30]\n",
    "\n",
    "print(\"++++\")\n",
    "\n",
    "for i in number:\n",
    "    print(i)"
   ]
  },
  {
   "cell_type": "code",
   "execution_count": 9,
   "id": "37807dc7",
   "metadata": {},
   "outputs": [
    {
     "name": "stdout",
     "output_type": "stream",
     "text": [
      "-------\n",
      "-------\n",
      "-------\n",
      "-------\n"
     ]
    }
   ],
   "source": [
    "# 140 \n",
    "\n",
    "slice = (1,2,3,4)\n",
    "\n",
    "for 변수 in slice:\n",
    "    print(\"-------\")"
   ]
  },
  {
   "cell_type": "code",
   "execution_count": 11,
   "id": "7c46ead3",
   "metadata": {},
   "outputs": [
    {
     "name": "stdout",
     "output_type": "stream",
     "text": [
      "110\n",
      "210\n",
      "310\n"
     ]
    }
   ],
   "source": [
    "# 141 \n",
    "\n",
    "리스트 = [100, 200, 300]\n",
    "\n",
    "for i in 리스트 :\n",
    "    print(i+10)\n"
   ]
  },
  {
   "cell_type": "code",
   "execution_count": 13,
   "id": "2b346380",
   "metadata": {},
   "outputs": [
    {
     "name": "stdout",
     "output_type": "stream",
     "text": [
      "오늘의 메뉴: 김밥\n",
      "오늘의 메뉴: 라면\n",
      "오늘의 메뉴: 튀김\n"
     ]
    }
   ],
   "source": [
    "# 142 \n",
    "\n",
    "리스트 = [\"김밥\", \"라면\", \"튀김\"]\n",
    "\n",
    "for i in 리스트:\n",
    "    print('오늘의 메뉴: '+i)\n"
   ]
  },
  {
   "cell_type": "code",
   "execution_count": 15,
   "id": "d58b8f17",
   "metadata": {},
   "outputs": [
    {
     "name": "stdout",
     "output_type": "stream",
     "text": [
      "6\n",
      "4\n",
      "4\n"
     ]
    }
   ],
   "source": [
    "# 143\n",
    "\n",
    "리스트 = [\"SK하이닉스\", \"삼성전자\", \"LG전자\"]\n",
    "# length 이용하는 것 같은데 \n",
    "\n",
    "for i in 리스트:\n",
    "    print(len(i))"
   ]
  },
  {
   "cell_type": "code",
   "execution_count": 16,
   "id": "a70da23c",
   "metadata": {},
   "outputs": [
    {
     "name": "stdout",
     "output_type": "stream",
     "text": [
      "dog 3\n",
      "cat 3\n",
      "parrot 6\n"
     ]
    }
   ],
   "source": [
    "# 144\n",
    "\n",
    "리스트 = ['dog', 'cat', 'parrot']\n",
    "\n",
    "for i in 리스트:\n",
    "    print(i, len(i))"
   ]
  },
  {
   "cell_type": "code",
   "execution_count": 19,
   "id": "557e64ea",
   "metadata": {},
   "outputs": [
    {
     "name": "stdout",
     "output_type": "stream",
     "text": [
      "d\n",
      "c\n",
      "p\n"
     ]
    }
   ],
   "source": [
    "# 145\n",
    "\n",
    "리스트 = ['dog', 'cat', 'parrot']\n",
    "\n",
    "for i in 리스트:\n",
    "    print(i[0])\n",
    "    "
   ]
  },
  {
   "cell_type": "code",
   "execution_count": 24,
   "id": "df5eb431",
   "metadata": {},
   "outputs": [
    {
     "name": "stdout",
     "output_type": "stream",
     "text": [
      "3 x 1\n",
      "3 x 2\n",
      "3 x 3\n"
     ]
    }
   ],
   "source": [
    "# 146\n",
    "\n",
    "리스트 = [1, 2, 3]\n",
    "\n",
    "for i in 리스트:\n",
    "    print('3 x' ,i)"
   ]
  },
  {
   "cell_type": "code",
   "execution_count": 26,
   "id": "012368cd",
   "metadata": {},
   "outputs": [
    {
     "name": "stdout",
     "output_type": "stream",
     "text": [
      "3 x 1 = 3\n",
      "3 x 2 = 6\n",
      "3 x 3 = 9\n"
     ]
    }
   ],
   "source": [
    "# 147\n",
    "\n",
    "리스트 = [1, 2, 3]\n",
    "\n",
    "for i in 리스트:\n",
    "    print('3 x',i,'=', 3*i)"
   ]
  },
  {
   "cell_type": "code",
   "execution_count": 29,
   "id": "b3f194a8",
   "metadata": {},
   "outputs": [
    {
     "name": "stdout",
     "output_type": "stream",
     "text": [
      "나\n",
      "다\n",
      "라\n"
     ]
    }
   ],
   "source": [
    "# 148\n",
    "\n",
    "리스트 = [\"가\", \"나\", \"다\", \"라\"]\n",
    "\n",
    "for i in 리스트[1:4]:\n",
    "    print(i)\n",
    "    \n",
    "# range에서 문자열은 넣을 수 없고 정수만 가능하다.     "
   ]
  },
  {
   "cell_type": "code",
   "execution_count": 7,
   "id": "5cacf12e",
   "metadata": {},
   "outputs": [
    {
     "name": "stdout",
     "output_type": "stream",
     "text": [
      "가\n",
      "다\n"
     ]
    }
   ],
   "source": [
    "# 149\n",
    "\n",
    "리스트 = [\"가\", \"나\", \"다\", \"라\"]\n",
    "number = 0 \n",
    "\n",
    "for i in 리스트[0:4:2] :\n",
    "    print(i)\n",
    "  "
   ]
  },
  {
   "cell_type": "code",
   "execution_count": 8,
   "id": "24f1ed41",
   "metadata": {},
   "outputs": [
    {
     "name": "stdout",
     "output_type": "stream",
     "text": [
      "가\n",
      "다\n"
     ]
    }
   ],
   "source": [
    "# 149\n",
    "\n",
    "리스트 = [\"가\", \"나\", \"다\", \"라\"]\n",
    "number = 0 \n",
    "\n",
    "for i in 리스트[ : :2] :\n",
    "    print(i)\n",
    "  "
   ]
  },
  {
   "cell_type": "code",
   "execution_count": 13,
   "id": "a0c660cc",
   "metadata": {},
   "outputs": [
    {
     "name": "stdout",
     "output_type": "stream",
     "text": [
      "['라', '다', '나', '가']\n",
      "라\n",
      "다\n",
      "나\n",
      "가\n"
     ]
    }
   ],
   "source": [
    "# 150\n",
    "\n",
    "리스트 = [\"가\", \"나\", \"다\", \"라\"]\n",
    "리스트.sort(reverse = True)\n",
    "print(리스트)\n",
    "\n",
    "for i in 리스트:\n",
    "    print(i)"
   ]
  },
  {
   "cell_type": "code",
   "execution_count": 2,
   "id": "596953aa",
   "metadata": {},
   "outputs": [
    {
     "name": "stdout",
     "output_type": "stream",
     "text": [
      "-20\n",
      "-3\n"
     ]
    }
   ],
   "source": [
    "# 151\n",
    "\n",
    "리스트 = [3, -20, -3, 44]\n",
    "\n",
    "for i in 리스트:\n",
    "    if i < 0 :\n",
    "        print(i)\n"
   ]
  },
  {
   "cell_type": "code",
   "execution_count": 17,
   "id": "9dea2dff",
   "metadata": {},
   "outputs": [
    {
     "name": "stdout",
     "output_type": "stream",
     "text": [
      "3\n"
     ]
    }
   ],
   "source": [
    "# 152 \n",
    "\n",
    "리스트 = [3, 100, 23, 44]\n",
    "\n",
    "for i in 리스트 :\n",
    "    if i % 3 == 0 :\n",
    "        print(i)\n",
    "\n",
    "# 3의 배수 출력 : 3 * k 형식일 것 같음\n",
    "# k는 정수이지 않을까 \n",
    "# 나누어떨어지면 배수라는게 증명되는구나 "
   ]
  },
  {
   "cell_type": "code",
   "execution_count": 20,
   "id": "eacb4b65",
   "metadata": {},
   "outputs": [
    {
     "name": "stdout",
     "output_type": "stream",
     "text": [
      "12\n",
      "18\n"
     ]
    }
   ],
   "source": [
    "# 153\n",
    "\n",
    "리스트 = [13, 21, 12, 14, 30, 18]\n",
    "\n",
    "for i in 리스트:\n",
    "    if i % 3 == 0 and i < 20 :\n",
    "        print(i)"
   ]
  },
  {
   "cell_type": "code",
   "execution_count": 2,
   "id": "2df33645",
   "metadata": {},
   "outputs": [
    {
     "name": "stdout",
     "output_type": "stream",
     "text": [
      "study\n",
      "python\n",
      "language\n"
     ]
    }
   ],
   "source": [
    "# 154\n",
    "\n",
    "리스트 = [\"I\", \"study\", \"python\", \"language\", \"!\"]\n",
    "\n",
    "for i in 리스트:\n",
    "    if len(i) >= 3 : \n",
    "        print(i)"
   ]
  },
  {
   "cell_type": "code",
   "execution_count": 4,
   "id": "5b3fdae1",
   "metadata": {},
   "outputs": [
    {
     "name": "stdout",
     "output_type": "stream",
     "text": [
      "A\n",
      "D\n"
     ]
    }
   ],
   "source": [
    "# 155\n",
    "\n",
    "리스트 = [\"A\", \"b\", \"c\", \"D\"]\n",
    "\n",
    "for i in 리스트:\n",
    "    if i.isupper() == True:\n",
    "        print(i)\n",
    "        \n",
    "# 리스트에서 대문자만 출력         "
   ]
  },
  {
   "cell_type": "code",
   "execution_count": 5,
   "id": "9f68b93e",
   "metadata": {},
   "outputs": [
    {
     "name": "stdout",
     "output_type": "stream",
     "text": [
      "b\n",
      "c\n"
     ]
    }
   ],
   "source": [
    "# 156\n",
    "\n",
    "리스트 = [\"A\", \"b\", \"c\", \"D\"]\n",
    "\n",
    "for i in 리스트:\n",
    "    if i.islower() == True :\n",
    "        print(i)"
   ]
  },
  {
   "cell_type": "code",
   "execution_count": 6,
   "id": "d92cea2d",
   "metadata": {},
   "outputs": [
    {
     "name": "stdout",
     "output_type": "stream",
     "text": [
      "DOG\n",
      "CAT\n",
      "PARROT\n"
     ]
    }
   ],
   "source": [
    "# 157\n",
    "\n",
    "리스트 = ['dog', 'cat', 'parrot']\n",
    "\n",
    "for i in 리스트: \n",
    "    print(i.upper())"
   ]
  },
  {
   "cell_type": "code",
   "execution_count": 10,
   "id": "696cc618",
   "metadata": {},
   "outputs": [
    {
     "name": "stdout",
     "output_type": "stream",
     "text": [
      "hello\n",
      "ex01\n",
      "intro\n"
     ]
    }
   ],
   "source": [
    "# 158\n",
    "\n",
    "리스트 = ['hello.py', 'ex01.py', 'intro.hwp']\n",
    "\n",
    "for i in 리스트:\n",
    "    a = i.split('.')\n",
    "    print(a[0])"
   ]
  },
  {
   "cell_type": "code",
   "execution_count": 15,
   "id": "7fa25e34",
   "metadata": {},
   "outputs": [
    {
     "name": "stdout",
     "output_type": "stream",
     "text": [
      "intra.h\n",
      "define.h\n"
     ]
    }
   ],
   "source": [
    "# 159\n",
    "\n",
    "리스트 = ['intra.h', 'intra.c', 'define.h', 'run.py']\n",
    "\n",
    "for i in 리스트:\n",
    "    a = i.split('.')\n",
    "    if a[1] == 'h' :\n",
    "        print(i)\n",
    "        \n",
    "\n",
    "# split로 분리하고, 첫번째 인덱스가 h인거 print 하기 "
   ]
  },
  {
   "cell_type": "code",
   "execution_count": 21,
   "id": "d0f260cf",
   "metadata": {},
   "outputs": [
    {
     "name": "stdout",
     "output_type": "stream",
     "text": [
      "intra.h\n",
      "intra.c\n",
      "define.h\n"
     ]
    }
   ],
   "source": [
    "# 160\n",
    "\n",
    "리스트 = ['intra.h', 'intra.c', 'define.h', 'run.py']\n",
    "\n",
    "for i in 리스트:\n",
    "    a = i.split('.')\n",
    "    if a[1] == 'h' or a[1] == 'c':\n",
    "        print(i)"
   ]
  },
  {
   "cell_type": "code",
   "execution_count": 3,
   "id": "e57f0265",
   "metadata": {},
   "outputs": [
    {
     "name": "stdout",
     "output_type": "stream",
     "text": [
      "0\n",
      "1\n",
      "2\n",
      "3\n",
      "4\n",
      "5\n",
      "6\n",
      "7\n",
      "8\n",
      "9\n",
      "10\n",
      "11\n",
      "12\n",
      "13\n",
      "14\n",
      "15\n",
      "16\n",
      "17\n",
      "18\n",
      "19\n",
      "20\n",
      "21\n",
      "22\n",
      "23\n",
      "24\n",
      "25\n",
      "26\n",
      "27\n",
      "28\n",
      "29\n",
      "30\n",
      "31\n",
      "32\n",
      "33\n",
      "34\n",
      "35\n",
      "36\n",
      "37\n",
      "38\n",
      "39\n",
      "40\n",
      "41\n",
      "42\n",
      "43\n",
      "44\n",
      "45\n",
      "46\n",
      "47\n",
      "48\n",
      "49\n",
      "50\n",
      "51\n",
      "52\n",
      "53\n",
      "54\n",
      "55\n",
      "56\n",
      "57\n",
      "58\n",
      "59\n",
      "60\n",
      "61\n",
      "62\n",
      "63\n",
      "64\n",
      "65\n",
      "66\n",
      "67\n",
      "68\n",
      "69\n",
      "70\n",
      "71\n",
      "72\n",
      "73\n",
      "74\n",
      "75\n",
      "76\n",
      "77\n",
      "78\n",
      "79\n",
      "80\n",
      "81\n",
      "82\n",
      "83\n",
      "84\n",
      "85\n",
      "86\n",
      "87\n",
      "88\n",
      "89\n",
      "90\n",
      "91\n",
      "92\n",
      "93\n",
      "94\n",
      "95\n",
      "96\n",
      "97\n",
      "98\n",
      "99\n"
     ]
    }
   ],
   "source": [
    "# 161 \n",
    "\n",
    "for i in range(0,100):\n",
    "    print(i)"
   ]
  },
  {
   "cell_type": "code",
   "execution_count": 5,
   "id": "59add0af",
   "metadata": {},
   "outputs": [
    {
     "name": "stdout",
     "output_type": "stream",
     "text": [
      "2002\n",
      "2006\n",
      "2010\n",
      "2014\n",
      "2018\n",
      "2022\n",
      "2026\n",
      "2030\n",
      "2034\n",
      "2038\n",
      "2042\n",
      "2046\n",
      "2050\n"
     ]
    }
   ],
   "source": [
    "# 162 \n",
    "# range의 세번째 파라미터는 증감폭을 결정한다.\n",
    "\n",
    "for i in range(2002,2051,4):\n",
    "    print(i)\n"
   ]
  },
  {
   "cell_type": "code",
   "execution_count": 10,
   "id": "7d521b17",
   "metadata": {},
   "outputs": [
    {
     "name": "stdout",
     "output_type": "stream",
     "text": [
      "3\n",
      "6\n",
      "9\n",
      "12\n",
      "15\n",
      "18\n",
      "21\n",
      "24\n",
      "27\n",
      "30\n"
     ]
    }
   ],
   "source": [
    "# 163 \n",
    "\n",
    "for i in range(3,31,3):\n",
    "    print(i)"
   ]
  },
  {
   "cell_type": "code",
   "execution_count": 12,
   "id": "2bc76ffc",
   "metadata": {},
   "outputs": [
    {
     "name": "stdout",
     "output_type": "stream",
     "text": [
      "100\n",
      "99\n",
      "98\n",
      "97\n",
      "96\n",
      "95\n",
      "94\n",
      "93\n",
      "92\n",
      "91\n",
      "90\n",
      "89\n",
      "88\n",
      "87\n",
      "86\n",
      "85\n",
      "84\n",
      "83\n",
      "82\n",
      "81\n",
      "80\n",
      "79\n",
      "78\n",
      "77\n",
      "76\n",
      "75\n",
      "74\n",
      "73\n",
      "72\n",
      "71\n",
      "70\n",
      "69\n",
      "68\n",
      "67\n",
      "66\n",
      "65\n",
      "64\n",
      "63\n",
      "62\n",
      "61\n",
      "60\n",
      "59\n",
      "58\n",
      "57\n",
      "56\n",
      "55\n",
      "54\n",
      "53\n",
      "52\n",
      "51\n",
      "50\n",
      "49\n",
      "48\n",
      "47\n",
      "46\n",
      "45\n",
      "44\n",
      "43\n",
      "42\n",
      "41\n",
      "40\n",
      "39\n",
      "38\n",
      "37\n",
      "36\n",
      "35\n",
      "34\n",
      "33\n",
      "32\n",
      "31\n",
      "30\n",
      "29\n",
      "28\n",
      "27\n",
      "26\n",
      "25\n",
      "24\n",
      "23\n",
      "22\n",
      "21\n",
      "20\n",
      "19\n",
      "18\n",
      "17\n",
      "16\n",
      "15\n",
      "14\n",
      "13\n",
      "12\n",
      "11\n",
      "10\n",
      "9\n",
      "8\n",
      "7\n",
      "6\n",
      "5\n",
      "4\n",
      "3\n",
      "2\n",
      "1\n"
     ]
    }
   ],
   "source": [
    "# 164\n",
    "# for range 역순 - 간격 칸 앞에 마이너스 붙이기 \n",
    "\n",
    "for i in range(100,0,-1):\n",
    "    print(i)"
   ]
  },
  {
   "cell_type": "code",
   "execution_count": 18,
   "id": "773ed466",
   "metadata": {},
   "outputs": [
    {
     "data": {
      "text/plain": [
       "array([0. , 0.1, 0.2, 0.3, 0.4, 0.5, 0.6, 0.7, 0.8, 0.9])"
      ]
     },
     "execution_count": 18,
     "metadata": {},
     "output_type": "execute_result"
    }
   ],
   "source": [
    "# 165\n",
    "\n",
    "# range 의 step 파라미터는 int 형만 올 수 있다.\n",
    "# numpy 모듈의 arange 함수는 반열린구간 [srart, stop] 에서 step 의 크기만큼\n",
    "# 일정하게 떨어져 있는 숫자들을 array 형태로 반환해주는 함수다. \n",
    "\n",
    "import numpy as np\n",
    "np.arange(0,1,0.1)"
   ]
  },
  {
   "cell_type": "code",
   "execution_count": 10,
   "id": "6c5827d7",
   "metadata": {},
   "outputs": [
    {
     "name": "stdout",
     "output_type": "stream",
     "text": [
      "0.0\n",
      "0.1\n",
      "0.2\n",
      "0.3\n",
      "0.4\n",
      "0.5\n",
      "0.6\n",
      "0.7\n",
      "0.8\n",
      "0.9\n"
     ]
    }
   ],
   "source": [
    "# 165 \n",
    "# 힌트 - 나누기를 이용하기 \n",
    "# 아 소수점이 분수꼴이니까 나누기를 이용했구나 \n",
    "\n",
    "# 다른식으로 풀기 \n",
    "\n",
    "for i in range(0,10,1):\n",
    "    print(i/10)"
   ]
  },
  {
   "cell_type": "code",
   "execution_count": 14,
   "id": "97d64b84",
   "metadata": {},
   "outputs": [
    {
     "name": "stdout",
     "output_type": "stream",
     "text": [
      "3 x 1 =  3\n",
      "3 x 2 =  6\n",
      "3 x 3 =  9\n",
      "3 x 4 =  12\n",
      "3 x 5 =  15\n",
      "3 x 6 =  18\n",
      "3 x 7 =  21\n",
      "3 x 8 =  24\n",
      "3 x 9 =  27\n"
     ]
    }
   ],
   "source": [
    "# 166\n",
    "# 구구단 3단 출력하기 \n",
    "\n",
    "\n",
    "for i in range(1,10):\n",
    "    print('3 x',i,'='' ',3*i)"
   ]
  },
  {
   "cell_type": "code",
   "execution_count": 3,
   "id": "20877a2a",
   "metadata": {},
   "outputs": [
    {
     "name": "stdout",
     "output_type": "stream",
     "text": [
      "3 x 1 = 3\n",
      "3 x 3 = 9\n",
      "3 x 5 = 15\n",
      "3 x 7 = 21\n",
      "3 x 9 = 27\n"
     ]
    }
   ],
   "source": [
    "# 167\n",
    "# 홀수번째 출력하는게 나누기 이용했던 것 같음, 2로 나눠서 0이 아닐 때 \n",
    "\n",
    "for i in range(1,10,2):\n",
    "    print('3 x',i,'=',3*i)\n"
   ]
  },
  {
   "cell_type": "code",
   "execution_count": 5,
   "id": "b74d1ac5",
   "metadata": {},
   "outputs": [
    {
     "name": "stdout",
     "output_type": "stream",
     "text": [
      "55\n"
     ]
    }
   ],
   "source": [
    "# 168\n",
    "# 더하기, 누적,어디다가 저장하기 \n",
    "\n",
    "item = []\n",
    "for i in range(1,11):\n",
    "    item.append(i)\n",
    "    \n",
    "print(sum(item))\n",
    "\n",
    "# 리스트의 모든 원소들 더한 값 출력 "
   ]
  },
  {
   "cell_type": "code",
   "execution_count": 8,
   "id": "0e50ddcc",
   "metadata": {},
   "outputs": [
    {
     "name": "stdout",
     "output_type": "stream",
     "text": [
      "25\n"
     ]
    }
   ],
   "source": [
    "# 169\n",
    "# 모든 홀수의 합 출력 \n",
    "\n",
    "item = []  # 합은 일단 빈 리스트 만들고 시작하기 \n",
    "for i in range(1,11,2):\n",
    "    item.append(i)\n",
    "    \n",
    "print(sum(item))    "
   ]
  },
  {
   "cell_type": "code",
   "execution_count": 13,
   "id": "32120062",
   "metadata": {},
   "outputs": [
    {
     "name": "stdout",
     "output_type": "stream",
     "text": [
      "1\n",
      "2\n",
      "6\n",
      "24\n",
      "120\n",
      "720\n",
      "5040\n",
      "40320\n",
      "362880\n",
      "3628800\n"
     ]
    }
   ],
   "source": [
    "# 170 \n",
    "# 차례차례 곱하는 형식을 이용해야 할 것 같음 \n",
    "# 파이썬에서 변수의 시작은 초기화부터이다. \n",
    "# 코드 실행 전에 내가 한번 시뮬레이션 머리로 돌리고 실행하기 \n",
    "\n",
    "k = 1\n",
    "for i in range(1,11):\n",
    "    k = k*i\n",
    "    print(k)    \n",
    "\n",
    "# 이거 이용해야할 것 같은데 \n",
    "# 이렇게 되면 i가 1,2,3,4,5,6,7,8,9,10 까지 나옴 \n",
    "    "
   ]
  },
  {
   "cell_type": "code",
   "execution_count": 3,
   "id": "83e6e8c6",
   "metadata": {},
   "outputs": [
    {
     "name": "stdout",
     "output_type": "stream",
     "text": [
      "32100\n",
      "32150\n",
      "32000\n",
      "32500\n"
     ]
    }
   ],
   "source": [
    "# 171 번 \n",
    "# range() 함수는 정수 값을 받아야 하지만 여기서는 리스트가 전달되었기에 오류가 발생\n",
    "# len 와 index 이용하기 \n",
    "\n",
    "price_list = [32100, 32150, 32000, 32500]\n",
    "for i in range(len(price_list)):\n",
    "    print(price_list[i])"
   ]
  },
  {
   "cell_type": "code",
   "execution_count": 2,
   "id": "8df9a5cd",
   "metadata": {},
   "outputs": [
    {
     "name": "stdout",
     "output_type": "stream",
     "text": [
      "38\n",
      "21\n",
      "53\n",
      "62\n",
      "19\n"
     ]
    }
   ],
   "source": [
    "a = [38, 21, 53, 62, 19]\n",
    "for i in a:\n",
    "    print(i)"
   ]
  },
  {
   "cell_type": "code",
   "execution_count": 4,
   "id": "e30a56c3",
   "metadata": {},
   "outputs": [
    {
     "name": "stdout",
     "output_type": "stream",
     "text": [
      "0 32100\n",
      "1 32150\n",
      "2 32000\n",
      "3 32500\n"
     ]
    }
   ],
   "source": [
    "# 172 \n",
    "\n",
    "price_list = [32100, 32150, 32000, 32500]\n",
    "\n",
    "for i in range(len(price_list)):\n",
    "    print(i, price_list[i])\n",
    "    "
   ]
  },
  {
   "cell_type": "code",
   "execution_count": 11,
   "id": "f8a1061d",
   "metadata": {},
   "outputs": [
    {
     "name": "stdout",
     "output_type": "stream",
     "text": [
      "3 32100\n",
      "2 32150\n",
      "1 32000\n",
      "0 32500\n"
     ]
    }
   ],
   "source": [
    "# 173\n",
    "\n",
    "price_list = [32100, 32150, 32000, 32500]\n",
    "for i in range(len(price_list)):\n",
    "    print(len(price_list)-(i+1), price_list[i])"
   ]
  },
  {
   "cell_type": "code",
   "execution_count": 9,
   "id": "0dd53d51",
   "metadata": {},
   "outputs": [
    {
     "name": "stdout",
     "output_type": "stream",
     "text": [
      "3 32100\n",
      "2 32150\n",
      "1 32000\n",
      "0 32500\n"
     ]
    }
   ],
   "source": [
    "price_list = [32100, 32150, 32000, 32500]\n",
    "for i in range(4):\n",
    "    print(len(price_list)-(i+1),price_list[i])"
   ]
  },
  {
   "cell_type": "code",
   "execution_count": 16,
   "id": "1c7d25ed",
   "metadata": {},
   "outputs": [
    {
     "name": "stdout",
     "output_type": "stream",
     "text": [
      "100 32150\n",
      "110 32000\n",
      "120 32500\n"
     ]
    }
   ],
   "source": [
    "# 174 \n",
    "\n",
    "price_list = [32100, 32150, 32000, 32500]\n",
    "for i in range(1,4):\n",
    "    k = 90 + 10*i\n",
    "    print(k,price_list[i])"
   ]
  },
  {
   "cell_type": "code",
   "execution_count": 22,
   "id": "29fc6c5d",
   "metadata": {},
   "outputs": [
    {
     "name": "stdout",
     "output_type": "stream",
     "text": [
      "가 나\n",
      "나 다\n",
      "다 라\n"
     ]
    }
   ],
   "source": [
    "# 175 \n",
    "\n",
    "my_list = [\"가\", \"나\", \"다\", \"라\"]\n",
    "for i in range(len(my_list)-1):\n",
    "    print(my_list[i], my_list[i+1])"
   ]
  },
  {
   "cell_type": "code",
   "execution_count": 26,
   "id": "4e43e9c0",
   "metadata": {},
   "outputs": [
    {
     "name": "stdout",
     "output_type": "stream",
     "text": [
      "가 나 다\n",
      "나 다 라\n",
      "다 라 마\n"
     ]
    }
   ],
   "source": [
    "# 176\n",
    "\n",
    "my_list = [\"가\", \"나\", \"다\", \"라\", \"마\"]\n",
    "for i in range(len(my_list)-2):\n",
    "    print(my_list[i],my_list[i+1],my_list[i+2])"
   ]
  },
  {
   "cell_type": "code",
   "execution_count": 35,
   "id": "218c7cfd",
   "metadata": {},
   "outputs": [
    {
     "name": "stdout",
     "output_type": "stream",
     "text": [
      "라 다\n",
      "다 나\n",
      "나 가\n"
     ]
    }
   ],
   "source": [
    "# 177\n",
    "\n",
    "my_list = [\"가\", \"나\", \"다\", \"라\"]\n",
    "my_list.reverse()\n",
    "for i in range(len(my_list)-1):\n",
    "    print(my_list[i],my_list[i+1])"
   ]
  },
  {
   "cell_type": "code",
   "execution_count": 38,
   "id": "cc272a52",
   "metadata": {},
   "outputs": [
    {
     "name": "stdout",
     "output_type": "stream",
     "text": [
      "100\n",
      "200\n",
      "400\n"
     ]
    }
   ],
   "source": [
    "# 178\n",
    "\n",
    "my_list = [100, 200, 400, 800]\n",
    "for i in range(len(my_list)-1):\n",
    "    print(my_list[i+1]-my_list[i])"
   ]
  },
  {
   "cell_type": "code",
   "execution_count": 42,
   "id": "2eabcb2c",
   "metadata": {},
   "outputs": [
    {
     "name": "stdout",
     "output_type": "stream",
     "text": [
      "233.33333333333334\n",
      "466.6666666666667\n",
      "733.3333333333334\n",
      "1033.3333333333333\n"
     ]
    }
   ],
   "source": [
    "# 179\n",
    "\n",
    "my_list = [100, 200, 400, 800, 1000, 1300]\n",
    "for i in range(len(my_list)-2):\n",
    "    print((my_list[i]+my_list[i+1]+my_list[i+2])/3)"
   ]
  },
  {
   "cell_type": "code",
   "execution_count": 49,
   "id": "0ad48e47",
   "metadata": {},
   "outputs": [
    {
     "name": "stdout",
     "output_type": "stream",
     "text": [
      "[50, 100, 30, 80, 0]\n"
     ]
    }
   ],
   "source": [
    "# 180\n",
    "\n",
    "low_prices  = [100, 200, 400, 800, 1000]\n",
    "high_prices = [150, 300, 430, 880, 1000]\n",
    "\n",
    "volatility = []\n",
    "\n",
    "for i in range(5):\n",
    "    volatility.append(high_prices[i]-low_prices[i])\n",
    "print(volatility)"
   ]
  },
  {
   "cell_type": "code",
   "execution_count": 4,
   "id": "266ef798",
   "metadata": {},
   "outputs": [
    {
     "name": "stdout",
     "output_type": "stream",
     "text": [
      "[['101호', '102호'], ['201호', '202호'], ['301호', '302호']]\n"
     ]
    }
   ],
   "source": [
    "# 181\n",
    "# 2차원 리스트는 1차원 리스트를 묶어놓은 구조\n",
    "# 2차원 리스트의 선언은 세로길이(행의 개수), 가로길이(열의 개수)를 필요로 한다.\n",
    "\n",
    "\n",
    "apart = [['101호','102호'],['201호','202호'],['301호','302호']]\n",
    "print(apart)\n",
    "\n",
    "one = ['101호','102호']\n",
    "two = ['201호','202호']\n",
    "three = ['301호','302호']"
   ]
  },
  {
   "cell_type": "code",
   "execution_count": 6,
   "id": "56b88347",
   "metadata": {},
   "outputs": [
    {
     "name": "stdout",
     "output_type": "stream",
     "text": [
      "[['시가', 100, 200, 300], ['종가', 80, 210.33]]\n"
     ]
    }
   ],
   "source": [
    "# 182 \n",
    "\n",
    "stock = [['시가',100,200,300],['종가',80,210.330]]\n",
    "print(stock)"
   ]
  },
  {
   "cell_type": "code",
   "execution_count": 6,
   "id": "0212a41b",
   "metadata": {},
   "outputs": [
    {
     "name": "stdout",
     "output_type": "stream",
     "text": [
      "{'시가': [100, 200, 300], '종가': [80, 210, 330]}\n"
     ]
    }
   ],
   "source": [
    "# 183\n",
    "# key와 value 로 저장 \n",
    "\n",
    "stock = {'시가' : [100,200,300],'종가' : [80,210,330]}\n",
    "\n",
    "print(stock)"
   ]
  },
  {
   "cell_type": "code",
   "execution_count": 7,
   "id": "8cef3a49",
   "metadata": {},
   "outputs": [
    {
     "name": "stdout",
     "output_type": "stream",
     "text": [
      "{'10/10': [80, 110, 70, 90], '10/11': [210, 230, 190, 200]}\n"
     ]
    }
   ],
   "source": [
    "# 184\n",
    "\n",
    "stock = {'10/10':[80,110,70,90], '10/11':[210,230,190,200]}\n",
    "print(stock)"
   ]
  },
  {
   "cell_type": "code",
   "execution_count": 19,
   "id": "b73d7ad0",
   "metadata": {},
   "outputs": [
    {
     "name": "stdout",
     "output_type": "stream",
     "text": [
      "101 호\n",
      "102 호\n",
      "201 호\n",
      "202 호\n",
      "301 호\n",
      "302 호\n"
     ]
    }
   ],
   "source": [
    "# 185\n",
    "\n",
    "apart = [ [101, 102], [201, 202], [301, 302] ]\n",
    "\n",
    "for i in apart :\n",
    "    print(i[0], '호')\n",
    "    print(i[1],'호')"
   ]
  },
  {
   "cell_type": "code",
   "execution_count": 21,
   "id": "31102a3b",
   "metadata": {},
   "outputs": [
    {
     "name": "stdout",
     "output_type": "stream",
     "text": [
      "301 호\n",
      "302 호\n",
      "201 호\n",
      "202 호\n",
      "101 호\n",
      "102 호\n"
     ]
    }
   ],
   "source": [
    "# 186 \n",
    "\n",
    "apart = [ [101, 102], [201, 202], [301, 302] ]\n",
    "apart.reverse()\n",
    "\n",
    "for i in apart :\n",
    "    print(i[0],'호')\n",
    "    print(i[1],'호')\n",
    "    \n",
    "# 리스트 요소 뒤집을때 reverse ()    "
   ]
  },
  {
   "cell_type": "code",
   "execution_count": 22,
   "id": "122a1a21",
   "metadata": {},
   "outputs": [
    {
     "name": "stdout",
     "output_type": "stream",
     "text": [
      "302 호\n",
      "301 호\n",
      "202 호\n",
      "201 호\n",
      "102 호\n",
      "101 호\n"
     ]
    }
   ],
   "source": [
    "# 187 \n",
    "\n",
    "apart = [ [101, 102], [201, 202], [301, 302] ]\n",
    "apart.reverse()\n",
    "\n",
    "for i in apart:\n",
    "    print(i[1],'호')\n",
    "    print(i[0],'호')"
   ]
  },
  {
   "cell_type": "code",
   "execution_count": 24,
   "id": "4887001c",
   "metadata": {},
   "outputs": [
    {
     "name": "stdout",
     "output_type": "stream",
     "text": [
      "101 호\n",
      "- - - - -\n",
      "102 호\n",
      "- - - - -\n",
      "201 호\n",
      "- - - - -\n",
      "202 호\n",
      "- - - - -\n",
      "301 호\n",
      "- - - - -\n",
      "302 호\n",
      "- - - - -\n"
     ]
    }
   ],
   "source": [
    "# 188\n",
    "\n",
    "apart = [ [101, 102], [201, 202], [301, 302] ]\n",
    "\n",
    "for i in apart :\n",
    "    print(i[0], '호')\n",
    "    print('- - - - -')\n",
    "    print(i[1],'호')\n",
    "    print('- - - - -')"
   ]
  },
  {
   "cell_type": "code",
   "execution_count": 1,
   "id": "aaeca68b",
   "metadata": {},
   "outputs": [
    {
     "name": "stdout",
     "output_type": "stream",
     "text": [
      "101 호\n",
      "102 호\n",
      "201 호\n",
      "202 호\n",
      "301 호\n",
      "302 호\n"
     ]
    }
   ],
   "source": [
    "# 188\n",
    "\n",
    "\n",
    "apart = [ [101, 102], [201, 202], [301, 302] ]\n",
    "for i in apart:\n",
    "    for element in i:\n",
    "        print(element, '호')\n"
   ]
  },
  {
   "cell_type": "code",
   "execution_count": 4,
   "id": "d3035ae5",
   "metadata": {},
   "outputs": [
    {
     "name": "stdout",
     "output_type": "stream",
     "text": [
      "101 호\n",
      "-----\n",
      "102 호\n",
      "-----\n",
      "201 호\n",
      "-----\n",
      "202 호\n",
      "-----\n",
      "301 호\n",
      "-----\n",
      "302 호\n",
      "-----\n"
     ]
    }
   ],
   "source": [
    "# 189\n",
    "\n",
    "apart = [[101, 102], [201, 202], [301, 302]]\n",
    "for i in apart:\n",
    "    for a in i:\n",
    "        print(a,'호')\n",
    "        print('-----')"
   ]
  },
  {
   "cell_type": "code",
   "execution_count": 8,
   "id": "4ebbd4bf",
   "metadata": {},
   "outputs": [
    {
     "name": "stdout",
     "output_type": "stream",
     "text": [
      "101 호\n",
      "102 호\n",
      "-----\n",
      "201 호\n",
      "202 호\n",
      "-----\n",
      "301 호\n",
      "302 호\n",
      "-----\n"
     ]
    }
   ],
   "source": [
    "apart = [[101, 102], [201, 202], [301, 302]]\n",
    "for i in apart:\n",
    "    print(i[0],'호')\n",
    "    print(i[1],'호')\n",
    "    print('-----')"
   ]
  },
  {
   "cell_type": "code",
   "execution_count": 10,
   "id": "f6310f3e",
   "metadata": {},
   "outputs": [
    {
     "name": "stdout",
     "output_type": "stream",
     "text": [
      "101\n",
      "102\n",
      "-----\n",
      "201\n",
      "202\n",
      "-----\n",
      "301\n",
      "302\n",
      "-----\n"
     ]
    }
   ],
   "source": [
    "apart = [[101, 102], [201, 202], [301, 302]]\n",
    "for i in apart:\n",
    "    for a in i:\n",
    "        print(a)\n",
    "    print('-----')    "
   ]
  },
  {
   "cell_type": "code",
   "execution_count": 9,
   "id": "05ccabf2",
   "metadata": {},
   "outputs": [
    {
     "name": "stdout",
     "output_type": "stream",
     "text": [
      "101 호\n",
      "102 호\n",
      "201 호\n",
      "202 호\n",
      "301 호\n",
      "302 호\n",
      "-----\n"
     ]
    }
   ],
   "source": [
    "# 190 \n",
    "\n",
    "apart = [ [101, 102], [201, 202], [301, 302] ]\n",
    "\n",
    "for i in apart:\n",
    "    for a in i:\n",
    "        print(a, '호')\n",
    "print('-----')        "
   ]
  },
  {
   "cell_type": "code",
   "execution_count": 12,
   "id": "b10cafb8",
   "metadata": {},
   "outputs": [
    {
     "name": "stdout",
     "output_type": "stream",
     "text": [
      "2000.28\n",
      "3050.427\n",
      "2050.2870000000003\n",
      "1980.2772\n",
      "7501.05\n",
      "2050.2870000000003\n",
      "2050.2870000000003\n",
      "1980.2772\n",
      "15452.163\n",
      "15052.107\n",
      "15552.177\n",
      "14902.086000000001\n"
     ]
    }
   ],
   "source": [
    "# 191 \n",
    "\n",
    "data = [\n",
    "    [ 2000,  3050,  2050,  1980],\n",
    "    [ 7500,  2050,  2050,  1980],\n",
    "    [15450, 15050, 15550, 14900]\n",
    "]\n",
    "\n",
    "\n",
    "for i in data:\n",
    "    for a in i:\n",
    "        print(a * 1.00014)"
   ]
  },
  {
   "cell_type": "code",
   "execution_count": 13,
   "id": "bc2faa72",
   "metadata": {},
   "outputs": [
    {
     "name": "stdout",
     "output_type": "stream",
     "text": [
      "2000.28\n",
      "3050.427\n",
      "2050.2870000000003\n",
      "1980.2772\n",
      "----\n",
      "7501.05\n",
      "2050.2870000000003\n",
      "2050.2870000000003\n",
      "1980.2772\n",
      "----\n",
      "15452.163\n",
      "15052.107\n",
      "15552.177\n",
      "14902.086000000001\n",
      "----\n"
     ]
    }
   ],
   "source": [
    "# 192\n",
    "\n",
    "data = [\n",
    "    [ 2000,  3050,  2050,  1980],\n",
    "    [ 7500,  2050,  2050,  1980],\n",
    "    [15450, 15050, 15550, 14900]\n",
    "]\n",
    "\n",
    "\n",
    "for i in data:\n",
    "    for a in i:\n",
    "        print(a * 1.00014)\n",
    "    print('----')    "
   ]
  },
  {
   "cell_type": "code",
   "execution_count": 17,
   "id": "f0044d38",
   "metadata": {},
   "outputs": [
    {
     "name": "stdout",
     "output_type": "stream",
     "text": [
      "[2000.28, 3050.427, 2050.2870000000003, 1980.2772, 7501.05, 2050.2870000000003, 2050.2870000000003, 1980.2772, 15452.163, 15052.107, 15552.177, 14902.086000000001]\n"
     ]
    }
   ],
   "source": [
    "# 193\n",
    "\n",
    "data = [\n",
    "    [ 2000,  3050,  2050,  1980],\n",
    "    [ 7500,  2050,  2050,  1980],\n",
    "    [15450, 15050, 15550, 14900]\n",
    "]\n",
    "\n",
    "result = []\n",
    "\n",
    "for i in data:\n",
    "    for a in i:\n",
    "        result.append(a * 1.00014)\n",
    "\n",
    "print(result)        \n",
    "        \n",
    "        "
   ]
  },
  {
   "cell_type": "code",
   "execution_count": 18,
   "id": "cac2493d",
   "metadata": {},
   "outputs": [
    {
     "name": "stdout",
     "output_type": "stream",
     "text": [
      "[2000.28, 3050.427, 2050.2870000000003, 1980.2772]\n",
      "[2000.28, 3050.427, 2050.2870000000003, 1980.2772, 7501.05, 2050.2870000000003, 2050.2870000000003, 1980.2772]\n",
      "[2000.28, 3050.427, 2050.2870000000003, 1980.2772, 7501.05, 2050.2870000000003, 2050.2870000000003, 1980.2772, 15452.163, 15052.107, 15552.177, 14902.086000000001]\n"
     ]
    }
   ],
   "source": [
    "# 194\n",
    "\n",
    "data = [\n",
    "    [ 2000,  3050,  2050,  1980],\n",
    "    [ 7500,  2050,  2050,  1980],\n",
    "    [15450, 15050, 15550, 14900]\n",
    "]\n",
    "\n",
    "result = []\n",
    "\n",
    "for i in data:\n",
    "    for a in i:\n",
    "        result.append(a * 1.00014)\n",
    "    print(result)     \n",
    "        \n",
    "        "
   ]
  },
  {
   "cell_type": "code",
   "execution_count": 21,
   "id": "084d8c9e",
   "metadata": {},
   "outputs": [
    {
     "name": "stdout",
     "output_type": "stream",
     "text": [
      "100\n",
      "190\n",
      "310\n"
     ]
    }
   ],
   "source": [
    "# 195\n",
    "\n",
    "ohlc = [[\"open\", \"high\", \"low\", \"close\"],\n",
    "        [100, 110, 70, 100],\n",
    "        [200, 210, 180, 190],\n",
    "        [300, 310, 300, 310]]\n",
    "\n",
    "for i in ohlc[1:]:   \n",
    "    # 리스트의 슬라이싱을 사용하여 두번째 요소부터 마지막 요소 출력 \n",
    "    print(i[3])"
   ]
  },
  {
   "cell_type": "code",
   "execution_count": 24,
   "id": "28d0d05c",
   "metadata": {},
   "outputs": [
    {
     "name": "stdout",
     "output_type": "stream",
     "text": [
      "190\n",
      "310\n"
     ]
    }
   ],
   "source": [
    "# 196\n",
    "\n",
    "ohlc = [[\"open\", \"high\", \"low\", \"close\"],\n",
    "        [100, 110, 70, 100],\n",
    "        [200, 210, 180, 190],\n",
    "        [300, 310, 300, 310]]\n",
    "\n",
    "for i in ohlc[1:]:\n",
    "    if (i[3] > 150):\n",
    "            print(i[3])"
   ]
  },
  {
   "cell_type": "code",
   "execution_count": 26,
   "id": "a318de35",
   "metadata": {},
   "outputs": [
    {
     "name": "stdout",
     "output_type": "stream",
     "text": [
      "100\n",
      "310\n"
     ]
    }
   ],
   "source": [
    "# 197\n",
    "\n",
    "ohlc = [[\"open\", \"high\", \"low\", \"close\"],\n",
    "        [100, 110, 70, 100],\n",
    "        [200, 210, 180, 190],\n",
    "        [300, 310, 300, 310]]\n",
    "\n",
    "for i in ohlc:\n",
    "    if (i[0] <= i[3]):\n",
    "        print(i[3])"
   ]
  },
  {
   "cell_type": "code",
   "execution_count": 30,
   "id": "f867987e",
   "metadata": {},
   "outputs": [
    {
     "name": "stdout",
     "output_type": "stream",
     "text": [
      "[40, 30, 10]\n"
     ]
    }
   ],
   "source": [
    "# 198\n",
    "\n",
    "ohlc = [[\"open\", \"high\", \"low\", \"close\"],\n",
    "        [100, 110, 70, 100],\n",
    "        [200, 210, 180, 190],\n",
    "        [300, 310, 300, 310]]\n",
    "\n",
    "volatility = []\n",
    "\n",
    "for i in ohlc[1:]:\n",
    "    volatility.append(int(i[1]-i[2]))\n",
    "    \n",
    "print(volatility)    "
   ]
  },
  {
   "cell_type": "code",
   "execution_count": 32,
   "id": "a05b5830",
   "metadata": {},
   "outputs": [
    {
     "name": "stdout",
     "output_type": "stream",
     "text": [
      "[10]\n"
     ]
    }
   ],
   "source": [
    "# 199\n",
    "\n",
    "ohlc = [[\"open\", \"high\", \"low\", \"close\"],\n",
    "        [100, 110, 70, 100],\n",
    "        [200, 210, 180, 190],\n",
    "        [300, 310, 300, 310]]\n",
    "\n",
    "volatility = []\n",
    "\n",
    "for i in ohlc[1:]:\n",
    "    if i[3] > i[0]:\n",
    "        volatility.append(int(i[1]-i[2]))\n",
    "    \n",
    "print(volatility)    "
   ]
  },
  {
   "cell_type": "code",
   "execution_count": 35,
   "id": "b0b93306",
   "metadata": {},
   "outputs": [
    {
     "name": "stdout",
     "output_type": "stream",
     "text": [
      "0\n"
     ]
    }
   ],
   "source": [
    "# 200\n",
    "\n",
    "ohlc = [[\"open\", \"high\", \"low\", \"close\"],\n",
    "        [100, 110, 70, 100],\n",
    "        [200, 210, 180, 190],\n",
    "        [300, 310, 300, 310]]\n",
    "\n",
    "volatility = []\n",
    "\n",
    "for i in ohlc[1:]:\n",
    "    volatility.append(int(i[3]-i[0]))\n",
    "    \n",
    "volatility = sum(volatility)    \n",
    "print(volatility)    "
   ]
  },
  {
   "cell_type": "code",
   "execution_count": 9,
   "id": "a30f1026",
   "metadata": {},
   "outputs": [],
   "source": [
    "# 201\n",
    "\n",
    "def print_coin():\n",
    "    print(\"비트코인\")"
   ]
  },
  {
   "cell_type": "code",
   "execution_count": 10,
   "id": "5836a010",
   "metadata": {},
   "outputs": [
    {
     "name": "stdout",
     "output_type": "stream",
     "text": [
      "비트코인\n"
     ]
    }
   ],
   "source": [
    "# 202\n",
    "\n",
    "print_coin()"
   ]
  },
  {
   "cell_type": "code",
   "execution_count": 13,
   "id": "679d8559",
   "metadata": {},
   "outputs": [
    {
     "name": "stdout",
     "output_type": "stream",
     "text": [
      "비트코인비트코인비트코인비트코인비트코인비트코인비트코인비트코인비트코인비트코인비트코인비트코인비트코인비트코인비트코인비트코인비트코인비트코인비트코인비트코인비트코인비트코인비트코인비트코인비트코인비트코인비트코인비트코인비트코인비트코인비트코인비트코인비트코인비트코인비트코인비트코인비트코인비트코인비트코인비트코인비트코인비트코인비트코인비트코인비트코인비트코인비트코인비트코인비트코인비트코인비트코인비트코인비트코인비트코인비트코인비트코인비트코인비트코인비트코인비트코인비트코인비트코인비트코인비트코인비트코인비트코인비트코인비트코인비트코인비트코인비트코인비트코인비트코인비트코인비트코인비트코인비트코인비트코인비트코인비트코인비트코인비트코인비트코인비트코인비트코인비트코인비트코인비트코인비트코인비트코인비트코인비트코인비트코인비트코인비트코인비트코인비트코인비트코인비트코인비트코인\n"
     ]
    }
   ],
   "source": [
    "# 203\n",
    "\n",
    "def print_coin():\n",
    "    print(\"비트코인\"*100)\n",
    "    \n",
    "print_coin()    "
   ]
  },
  {
   "cell_type": "code",
   "execution_count": 15,
   "id": "13f2ded4",
   "metadata": {},
   "outputs": [
    {
     "name": "stdout",
     "output_type": "stream",
     "text": [
      "비트코인\n",
      "비트코인\n",
      "비트코인\n",
      "비트코인\n",
      "비트코인\n",
      "비트코인\n",
      "비트코인\n",
      "비트코인\n",
      "비트코인\n",
      "비트코인\n",
      "비트코인\n",
      "비트코인\n",
      "비트코인\n",
      "비트코인\n",
      "비트코인\n",
      "비트코인\n",
      "비트코인\n",
      "비트코인\n",
      "비트코인\n",
      "비트코인\n",
      "비트코인\n",
      "비트코인\n",
      "비트코인\n",
      "비트코인\n",
      "비트코인\n",
      "비트코인\n",
      "비트코인\n",
      "비트코인\n",
      "비트코인\n",
      "비트코인\n",
      "비트코인\n",
      "비트코인\n",
      "비트코인\n",
      "비트코인\n",
      "비트코인\n",
      "비트코인\n",
      "비트코인\n",
      "비트코인\n",
      "비트코인\n",
      "비트코인\n",
      "비트코인\n",
      "비트코인\n",
      "비트코인\n",
      "비트코인\n",
      "비트코인\n",
      "비트코인\n",
      "비트코인\n",
      "비트코인\n",
      "비트코인\n",
      "비트코인\n",
      "비트코인\n",
      "비트코인\n",
      "비트코인\n",
      "비트코인\n",
      "비트코인\n",
      "비트코인\n",
      "비트코인\n",
      "비트코인\n",
      "비트코인\n",
      "비트코인\n",
      "비트코인\n",
      "비트코인\n",
      "비트코인\n",
      "비트코인\n",
      "비트코인\n",
      "비트코인\n",
      "비트코인\n",
      "비트코인\n",
      "비트코인\n",
      "비트코인\n",
      "비트코인\n",
      "비트코인\n",
      "비트코인\n",
      "비트코인\n",
      "비트코인\n",
      "비트코인\n",
      "비트코인\n",
      "비트코인\n",
      "비트코인\n",
      "비트코인\n",
      "비트코인\n",
      "비트코인\n",
      "비트코인\n",
      "비트코인\n",
      "비트코인\n",
      "비트코인\n",
      "비트코인\n",
      "비트코인\n",
      "비트코인\n",
      "비트코인\n",
      "비트코인\n",
      "비트코인\n",
      "비트코인\n",
      "비트코인\n",
      "비트코인\n",
      "비트코인\n",
      "비트코인\n",
      "비트코인\n",
      "비트코인\n",
      "비트코인\n"
     ]
    }
   ],
   "source": [
    "# 203\n",
    "\n",
    "def print_coin():\n",
    "    print(\"비트코인\")\n",
    "for i in range(100):\n",
    "    print_coin()"
   ]
  },
  {
   "cell_type": "code",
   "execution_count": 17,
   "id": "ff14627b",
   "metadata": {},
   "outputs": [
    {
     "name": "stdout",
     "output_type": "stream",
     "text": [
      "비트코인비트코인비트코인비트코인비트코인비트코인비트코인비트코인비트코인비트코인비트코인비트코인비트코인비트코인비트코인비트코인비트코인비트코인비트코인비트코인비트코인비트코인비트코인비트코인비트코인비트코인비트코인비트코인비트코인비트코인비트코인비트코인비트코인비트코인비트코인비트코인비트코인비트코인비트코인비트코인비트코인비트코인비트코인비트코인비트코인비트코인비트코인비트코인비트코인비트코인비트코인비트코인비트코인비트코인비트코인비트코인비트코인비트코인비트코인비트코인비트코인비트코인비트코인비트코인비트코인비트코인비트코인비트코인비트코인비트코인비트코인비트코인비트코인비트코인비트코인비트코인비트코인비트코인비트코인비트코인비트코인비트코인비트코인비트코인비트코인비트코인비트코인비트코인비트코인비트코인비트코인비트코인비트코인비트코인비트코인비트코인비트코인비트코인비트코인비트코인\n"
     ]
    }
   ],
   "source": [
    "# 204\n",
    "\n",
    "def print_coins():\n",
    "    print(\"비트코인\" * 100)\n",
    "    \n",
    "print_coins()    "
   ]
  },
  {
   "cell_type": "code",
   "execution_count": 19,
   "id": "5e41d730",
   "metadata": {
    "scrolled": true
   },
   "outputs": [
    {
     "name": "stdout",
     "output_type": "stream",
     "text": [
      "비트코인\n",
      "비트코인\n",
      "비트코인\n",
      "비트코인\n",
      "비트코인\n",
      "비트코인\n",
      "비트코인\n",
      "비트코인\n",
      "비트코인\n",
      "비트코인\n",
      "비트코인\n",
      "비트코인\n",
      "비트코인\n",
      "비트코인\n",
      "비트코인\n",
      "비트코인\n",
      "비트코인\n",
      "비트코인\n",
      "비트코인\n",
      "비트코인\n",
      "비트코인\n",
      "비트코인\n",
      "비트코인\n",
      "비트코인\n",
      "비트코인\n",
      "비트코인\n",
      "비트코인\n",
      "비트코인\n",
      "비트코인\n",
      "비트코인\n",
      "비트코인\n",
      "비트코인\n",
      "비트코인\n",
      "비트코인\n",
      "비트코인\n",
      "비트코인\n",
      "비트코인\n",
      "비트코인\n",
      "비트코인\n",
      "비트코인\n",
      "비트코인\n",
      "비트코인\n",
      "비트코인\n",
      "비트코인\n",
      "비트코인\n",
      "비트코인\n",
      "비트코인\n",
      "비트코인\n",
      "비트코인\n",
      "비트코인\n",
      "비트코인\n",
      "비트코인\n",
      "비트코인\n",
      "비트코인\n",
      "비트코인\n",
      "비트코인\n",
      "비트코인\n",
      "비트코인\n",
      "비트코인\n",
      "비트코인\n",
      "비트코인\n",
      "비트코인\n",
      "비트코인\n",
      "비트코인\n",
      "비트코인\n",
      "비트코인\n",
      "비트코인\n",
      "비트코인\n",
      "비트코인\n",
      "비트코인\n",
      "비트코인\n",
      "비트코인\n",
      "비트코인\n",
      "비트코인\n",
      "비트코인\n",
      "비트코인\n",
      "비트코인\n",
      "비트코인\n",
      "비트코인\n",
      "비트코인\n",
      "비트코인\n",
      "비트코인\n",
      "비트코인\n",
      "비트코인\n",
      "비트코인\n",
      "비트코인\n",
      "비트코인\n",
      "비트코인\n",
      "비트코인\n",
      "비트코인\n",
      "비트코인\n",
      "비트코인\n",
      "비트코인\n",
      "비트코인\n",
      "비트코인\n",
      "비트코인\n",
      "비트코인\n",
      "비트코인\n",
      "비트코인\n",
      "비트코인\n"
     ]
    }
   ],
   "source": [
    "def print_coins():\n",
    "    print(\"비트코인\")\n",
    "    \n",
    "for i in range(100):\n",
    "    print_coins()"
   ]
  },
  {
   "cell_type": "code",
   "execution_count": 25,
   "id": "67765d6f",
   "metadata": {},
   "outputs": [
    {
     "name": "stdout",
     "output_type": "stream",
     "text": [
      "Hi\n"
     ]
    }
   ],
   "source": [
    "# 205\n",
    "\n",
    "\n",
    "hello()\n",
    "def hello():\n",
    "    print(\"Hi\")\n",
    "    \n",
    "# 순서가 거꾸로 되었으므로 오류가 날 수 있다.     "
   ]
  },
  {
   "cell_type": "code",
   "execution_count": null,
   "id": "7c2ad90f",
   "metadata": {},
   "outputs": [],
   "source": [
    "# 206 \n",
    "\n",
    "def message() :\n",
    "    print(\"A\")\n",
    "    print(\"B\")\n",
    "\n",
    "message()\n",
    "print(\"C\")\n",
    "message()\n",
    "\n",
    "# A B C A B"
   ]
  },
  {
   "cell_type": "code",
   "execution_count": null,
   "id": "be4a32da",
   "metadata": {},
   "outputs": [],
   "source": [
    "# 207\n",
    "\n",
    "print(\"A\")\n",
    "\n",
    "def message() :\n",
    "    print(\"B\")\n",
    "\n",
    "print(\"C\")\n",
    "message()\n",
    "\n",
    "\n",
    "# A C B"
   ]
  },
  {
   "cell_type": "code",
   "execution_count": null,
   "id": "e74a31d9",
   "metadata": {},
   "outputs": [],
   "source": [
    "# 208 \n",
    "\n",
    "print(\"A\")\n",
    "def message1() :\n",
    "    print(\"B\")\n",
    "print(\"C\")\n",
    "def message2() :\n",
    "    print(\"D\")\n",
    "message1()\n",
    "print(\"E\")\n",
    "message2()\n",
    "\n",
    "\n",
    "# A C B E D"
   ]
  },
  {
   "cell_type": "code",
   "execution_count": null,
   "id": "2f4b42c1",
   "metadata": {},
   "outputs": [],
   "source": [
    "# 209\n",
    "\n",
    "def message1():\n",
    "    print(\"A\")\n",
    "\n",
    "def message2():\n",
    "    print(\"B\")\n",
    "    message1()\n",
    "\n",
    "message2()\n",
    "\n",
    "# B A "
   ]
  },
  {
   "cell_type": "code",
   "execution_count": null,
   "id": "6dc48b68",
   "metadata": {},
   "outputs": [],
   "source": [
    "# 210\n",
    "\n",
    "def message1():\n",
    "    print(\"A\")\n",
    "\n",
    "def message2():\n",
    "    print(\"B\")\n",
    "\n",
    "def message3():\n",
    "    for i in range (3) :\n",
    "        message2()\n",
    "        print(\"C\")\n",
    "    message1()\n",
    "\n",
    "message3()\n",
    "\n",
    "\n",
    "# B C B C B C A"
   ]
  },
  {
   "cell_type": "code",
   "execution_count": null,
   "id": "2393ab57",
   "metadata": {},
   "outputs": [],
   "source": [
    "# 211\n",
    "\n",
    "안녕 \n",
    "Hi"
   ]
  },
  {
   "cell_type": "code",
   "execution_count": 1,
   "id": "f6e80df8",
   "metadata": {},
   "outputs": [
    {
     "data": {
      "text/plain": [
       "15"
      ]
     },
     "execution_count": 1,
     "metadata": {},
     "output_type": "execute_result"
    }
   ],
   "source": [
    "# 212\n",
    "\n",
    "7\n",
    "15"
   ]
  },
  {
   "cell_type": "code",
   "execution_count": null,
   "id": "fed6d458",
   "metadata": {},
   "outputs": [],
   "source": [
    "# 213\n",
    "\n",
    "# 출력할 문자열도 함께 입력해야 함"
   ]
  },
  {
   "cell_type": "code",
   "execution_count": null,
   "id": "8afc9a26",
   "metadata": {},
   "outputs": [],
   "source": [
    "# 214\n",
    "\n",
    "서로 형이 다르다. 문자열과 정수형은 연산이 되지 않는다. "
   ]
  },
  {
   "cell_type": "code",
   "execution_count": 6,
   "id": "05923622",
   "metadata": {},
   "outputs": [
    {
     "name": "stdout",
     "output_type": "stream",
     "text": [
      "유희:D\n"
     ]
    }
   ],
   "source": [
    "# 215\n",
    "\n",
    "def print_with_smile(문자열):\n",
    "    print(문자열 + \":D\")\n",
    "    \n",
    "print_with_smile('유희')    "
   ]
  },
  {
   "cell_type": "code",
   "execution_count": 7,
   "id": "580ab5eb",
   "metadata": {},
   "outputs": [
    {
     "name": "stdout",
     "output_type": "stream",
     "text": [
      "안녕하세요:D\n"
     ]
    }
   ],
   "source": [
    "# 216\n",
    "\n",
    "print_with_smile('안녕하세요')    "
   ]
  },
  {
   "cell_type": "code",
   "execution_count": 8,
   "id": "7446d2d2",
   "metadata": {},
   "outputs": [
    {
     "name": "stdout",
     "output_type": "stream",
     "text": [
      "7000.0\n"
     ]
    }
   ],
   "source": [
    "# 217\n",
    "\n",
    "def print_upper_price(정수형):\n",
    "    print(정수형 * 0.7)\n",
    "    \n",
    "print_upper_price(10000)    "
   ]
  },
  {
   "cell_type": "code",
   "execution_count": 9,
   "id": "55007e70",
   "metadata": {},
   "outputs": [
    {
     "name": "stdout",
     "output_type": "stream",
     "text": [
      "7\n"
     ]
    }
   ],
   "source": [
    "# 218\n",
    "\n",
    "def print_sum(a,b):\n",
    "    print(a + b)\n",
    "\n",
    "print_sum(3,4)"
   ]
  },
  {
   "cell_type": "code",
   "execution_count": 11,
   "id": "6de235a2",
   "metadata": {},
   "outputs": [
    {
     "name": "stdout",
     "output_type": "stream",
     "text": [
      "7\n",
      "-1\n",
      "12\n",
      "0.75\n"
     ]
    }
   ],
   "source": [
    "# 219 \n",
    "\n",
    "def print_arithmetic_operation(a, b):\n",
    "    print(a + b)\n",
    "    print(a - b)\n",
    "    print(a * b)\n",
    "    print(a / b)\n",
    "\n",
    "print_arithmetic_operation(3, 4)"
   ]
  },
  {
   "cell_type": "code",
   "execution_count": 17,
   "id": "e5ea8d12",
   "metadata": {},
   "outputs": [
    {
     "name": "stdout",
     "output_type": "stream",
     "text": [
      "6\n"
     ]
    }
   ],
   "source": [
    "# 220 \n",
    "\n",
    "\n",
    "def print_max(a,b,c):\n",
    "    if a>b:\n",
    "        if a>c:\n",
    "            print(a)\n",
    "    elif b>a:\n",
    "        if b>c:\n",
    "            print(b)\n",
    "    elif c>a:\n",
    "        if c>b:\n",
    "            print(c)     \n",
    "    else:\n",
    "        print('세개의 숫자를 다르게 입력해주세요')\n",
    "        \n",
    "print_max(3,6,4)        "
   ]
  },
  {
   "cell_type": "code",
   "execution_count": 28,
   "id": "8007443b",
   "metadata": {},
   "outputs": [
    {
     "name": "stdout",
     "output_type": "stream",
     "text": [
      "7\n"
     ]
    }
   ],
   "source": [
    "# 220\n",
    "# 비교가 되는 기준점 변수를 하나 세우고 쫘르륵 비교하기 \n",
    "\n",
    "\n",
    "def print_max(a,b,c):\n",
    "    max_value = 0\n",
    "    if a > max_value:\n",
    "        max_value = a \n",
    "        \n",
    "    if b > max_value:\n",
    "        max_value = b \n",
    "        \n",
    "    if c > max_value:\n",
    "        max_value = c      \n",
    "        \n",
    "    print(max_value)    \n",
    "    \n",
    "print_max(3,7,1)    "
   ]
  },
  {
   "cell_type": "code",
   "execution_count": 39,
   "id": "761a05fb",
   "metadata": {},
   "outputs": [
    {
     "name": "stdout",
     "output_type": "stream",
     "text": [
      "['희', '유', '우']\n"
     ]
    }
   ],
   "source": [
    "# 221\n",
    "# 문자열 역순으로 출력 \n",
    "\n",
    "my_list = []\n",
    "\n",
    "def print_reverse(문자열):\n",
    "    my_list = list(문자열)\n",
    "    my_list.reverse()\n",
    "    print(my_list)\n",
    "          \n",
    "print_reverse('우유희')          \n",
    "          "
   ]
  },
  {
   "cell_type": "code",
   "execution_count": 41,
   "id": "ee8526bd",
   "metadata": {},
   "outputs": [
    {
     "name": "stdout",
     "output_type": "stream",
     "text": [
      "희유우\n"
     ]
    }
   ],
   "source": [
    "# 221\n",
    "\n",
    "def print_reverse(문자열):\n",
    "    print(문자열[::-1])\n",
    "          \n",
    "print_reverse('우유희')         "
   ]
  },
  {
   "cell_type": "code",
   "execution_count": 47,
   "id": "2b07a1f7",
   "metadata": {},
   "outputs": [
    {
     "name": "stdout",
     "output_type": "stream",
     "text": [
      "2.0\n"
     ]
    }
   ],
   "source": [
    "# 222\n",
    "# 함수의 매개변수를 리스트로 받아들여야 함\n",
    "# 함수 호출 시에도 리스트를 넘겨주는 방식 \n",
    "\n",
    "def print_score(scores):\n",
    "    a,b,c = scores\n",
    "    print((a+b+c)/3)\n",
    "\n",
    "\n",
    "\n",
    "print_score ([1, 2, 3])\n",
    "\n",
    "# key point는 리스트가 한 묶음이니까 하나의 변수로 담았다는거\n",
    "# 함수 옆에 괄호 안의 자리는 변수자리임을 기억하기 "
   ]
  },
  {
   "cell_type": "code",
   "execution_count": 46,
   "id": "ac31cf9c",
   "metadata": {},
   "outputs": [
    {
     "name": "stdout",
     "output_type": "stream",
     "text": [
      "2.0\n"
     ]
    }
   ],
   "source": [
    "# 222\n",
    "\n",
    "def print_score(scores):\n",
    "    print(sum(scores)/len(scores))\n",
    "\n",
    "print_score ([1, 2, 3])    "
   ]
  },
  {
   "cell_type": "code",
   "execution_count": 54,
   "id": "38d5cd69",
   "metadata": {},
   "outputs": [],
   "source": [
    "# 223\n",
    "\n",
    "def print_even(couple_list):\n",
    "    for i in couple_list:\n",
    "        if i/2 == 0:\n",
    "            print(i)\n",
    "        \n",
    "print_even ([1, 3, 2, 10, 12, 11, 15])        "
   ]
  },
  {
   "cell_type": "code",
   "execution_count": 56,
   "id": "c78d4c48",
   "metadata": {},
   "outputs": [
    {
     "name": "stdout",
     "output_type": "stream",
     "text": [
      "2\n",
      "10\n",
      "12\n"
     ]
    }
   ],
   "source": [
    "def print_even(couple_list):\n",
    "    for i in couple_list:\n",
    "        if i%2 == 0:\n",
    "            print(i)\n",
    "        \n",
    "print_even ([1, 3, 2, 10, 12, 11, 15])        "
   ]
  },
  {
   "cell_type": "code",
   "execution_count": 5,
   "id": "df1311a7",
   "metadata": {},
   "outputs": [
    {
     "name": "stdout",
     "output_type": "stream",
     "text": [
      "dict_keys(['이름', '나이', '성별'])\n"
     ]
    }
   ],
   "source": [
    "# 224\n",
    "\n",
    "def print_keys(my_dict):\n",
    "    print(my_dict.keys())\n",
    "\n",
    "\n",
    "print_keys ({\"이름\":\"김말똥\", \"나이\":30, \"성별\":0})\n"
   ]
  },
  {
   "cell_type": "code",
   "execution_count": 8,
   "id": "b02ba495",
   "metadata": {},
   "outputs": [
    {
     "name": "stdout",
     "output_type": "stream",
     "text": [
      "이름\n",
      "나이\n",
      "성별\n"
     ]
    }
   ],
   "source": [
    "# 224 \n",
    "\n",
    "my_list = []\n",
    "\n",
    "def print_keys(my_dict):\n",
    "    my_list = list(my_dict.keys())\n",
    "    print(my_list[0])\n",
    "    print(my_list[1])\n",
    "    print(my_list[2])\n",
    "\n",
    "print_keys ({\"이름\":\"김말똥\", \"나이\":30, \"성별\":0})\n",
    "\n",
    "\n",
    "# 리스트 생성 -> 딕셔너리 .keys()로 키 값만 빼서 리스트에 넣어주기 \n",
    "# 리스트에 있는 것들 인덱스 지정으로 하나하나 print() 해주기 "
   ]
  },
  {
   "cell_type": "code",
   "execution_count": 10,
   "id": "24cf5acc",
   "metadata": {},
   "outputs": [
    {
     "name": "stdout",
     "output_type": "stream",
     "text": [
      "이름\n",
      "나이\n",
      "성별\n"
     ]
    }
   ],
   "source": [
    "# 224\n",
    "\n",
    "def print_keys(dict_key):\n",
    "    for i in dict_key.keys():\n",
    "        print(i)\n",
    "        \n",
    "print_keys ({\"이름\":\"김말똥\", \"나이\":30, \"성별\":0})        \n",
    "        "
   ]
  },
  {
   "cell_type": "code",
   "execution_count": 2,
   "id": "5b7f0183",
   "metadata": {},
   "outputs": [
    {
     "name": "stdout",
     "output_type": "stream",
     "text": [
      "[100, 130, 100, 100]\n"
     ]
    }
   ],
   "source": [
    "# 225 \n",
    "\n",
    "my_dict = {\"10/26\" : [100, 130, 100, 100],\n",
    "           \"10/27\" : [10, 12, 10, 11]}\n",
    "\n",
    "def print_value_by_key(문자열):\n",
    "    print(my_dict[문자열])\n",
    "    \n",
    "print_value_by_key( \"10/26\")    \n",
    "\n",
    "# 변수를 문자열로 받음\n",
    "# 딕셔너리.['키 값'] 적으면 value 가 출력 됨."
   ]
  },
  {
   "cell_type": "code",
   "execution_count": null,
   "id": "ba71e203",
   "metadata": {},
   "outputs": [],
   "source": [
    "# 225\n",
    "\n",
    "my_dict = {\"10/26\" : [100, 130, 100, 100],\n",
    "           \"10/27\" : [10, 12, 10, 11]}\n",
    "\n",
    "def print_value_by_key (my_dict, key) :\n",
    "    print(my_dict[key])\n",
    "\n",
    "\n",
    "print_value_by_key(my_dict, \"10/26\")   \n",
    "# my_dict 에서 '10/26' 이라는 키에 해당하는 값을 출력 \n",
    "# 변수가 두개 들어가있으면, 밑에 변수 두개를 이용하여 코드를 작성해주면 된다. "
   ]
  },
  {
   "cell_type": "code",
   "execution_count": 3,
   "id": "29ee17f1",
   "metadata": {},
   "outputs": [
    {
     "name": "stdout",
     "output_type": "stream",
     "text": [
      "아이엠어보\n",
      "이유알어걸\n"
     ]
    }
   ],
   "source": [
    "# 226\n",
    "\n",
    "def print_5xn(string):\n",
    "    print(string[0:5])\n",
    "    print(string[5:11])\n",
    "\n",
    "\n",
    "print_5xn(\"아이엠어보이유알어걸\")"
   ]
  },
  {
   "cell_type": "code",
   "execution_count": null,
   "id": "3b20ab9f",
   "metadata": {},
   "outputs": [],
   "source": [
    "# 226\n",
    "\n",
    "def print_5xn(line):       \n",
    "    chunk_num = int(len(line) / 5)    \n",
    "    for x in range(chunk_num + 1) :\n",
    "        print(line[x * 5: x * 5 + 5])\n",
    "        \n",
    "print_5xn(\"아이엠어보이유알어걸\")   \n",
    "\n",
    "\n"
   ]
  },
  {
   "cell_type": "code",
   "execution_count": null,
   "id": "c7d562aa",
   "metadata": {},
   "outputs": [],
   "source": [
    "# 226번 모르는 부분 정리 \n",
    "\n",
    "# print_5xn 이라는 함수에 line 이라는 인수\n",
    "# / 기본적인 나누기 형태, // 몫에 대한 계산 결과, % 나머지 값을 리턴 \n",
    "# int() 함수는 12/5 의 계산결과가 2.4 일때, 소수점 이하가 버려지고 \n",
    "# 정수 부분만을 얻게 된다. int() 함수는 반올림을 수행하지 않는다. \n",
    "# 나머지 부분이 있을 수 있으니 chunk_num에 1을 더해주는 것이다.\n",
    "# for i in range(숫자)에서 숫자 값은 0부터 시작하여 끝 값을 포함하지 않는다. \n",
    "# 0부터 시작하는데 끝 숫자는 포함하지 않으므로, 본래의 수와 같다. +1을 해야함\n",
    "# 인덱스 또한 0부터 시작하고 끝 숫자는 포함하지 않으므로 주의한다. "
   ]
  },
  {
   "cell_type": "code",
   "execution_count": 11,
   "id": "30d977e3",
   "metadata": {},
   "outputs": [
    {
     "name": "stdout",
     "output_type": "stream",
     "text": [
      "아이엠어보\n",
      "이유알어걸\n",
      "\n"
     ]
    }
   ],
   "source": [
    "# 226\n",
    "\n",
    "\n",
    "def print_5xn(문자열):\n",
    "    counts = len(문자열)\n",
    "    for i in range(int(counts/5) + 1):\n",
    "        print(문자열[i*5 : i*5 +5])\n",
    "\n",
    "print_5xn(\"아이엠어보이유알어걸\")"
   ]
  },
  {
   "cell_type": "code",
   "execution_count": 13,
   "id": "a2b34538",
   "metadata": {},
   "outputs": [
    {
     "name": "stdout",
     "output_type": "stream",
     "text": [
      "아이엠\n",
      "어보이\n",
      "유알어\n",
      "걸\n"
     ]
    }
   ],
   "source": [
    "# 227\n",
    "\n",
    "\n",
    "def printmxn(문자열, counts):\n",
    "    calcul = int(len(문자열)/counts)\n",
    "    for i in range(calcul + 1):\n",
    "        print(문자열[i * 3 : i*3 +3])\n",
    "        \n",
    "printmxn(\"아이엠어보이유알어걸\", 3)\n",
    "\n"
   ]
  },
  {
   "cell_type": "code",
   "execution_count": 14,
   "id": "c2cecf4b",
   "metadata": {},
   "outputs": [
    {
     "name": "stdout",
     "output_type": "stream",
     "text": [
      "1000000\n"
     ]
    }
   ],
   "source": [
    "# 228\n",
    "\n",
    "def calc_monthly_salary(annual_salary):\n",
    "    print(int(annual_salary/12))\n",
    "    \n",
    "calc_monthly_salary(12000000)\n",
    "\n",
    "# 1원 미만은 버려라 -> 소수점은 버려라 -> int()"
   ]
  },
  {
   "cell_type": "code",
   "execution_count": null,
   "id": "1efc6df9",
   "metadata": {},
   "outputs": [],
   "source": [
    "# 229\n",
    "\n",
    "def my_print (a, b) :\n",
    "    print(\"왼쪽:\", a)\n",
    "    print(\"오른쪽:\", b)\n",
    "\n",
    "my_print(a=100, b=200)\n",
    "\n",
    "\n",
    "# 왼쪽 : 100\n",
    "# 오른쪽 : 200"
   ]
  },
  {
   "cell_type": "code",
   "execution_count": null,
   "id": "05c75292",
   "metadata": {},
   "outputs": [],
   "source": [
    "# 230\n",
    "\n",
    "def my_print (a, b) :\n",
    "    print(\"왼쪽:\", a)\n",
    "    print(\"오른쪽:\", b)\n",
    "\n",
    "my_print(b=100, a=200)\n",
    "\n",
    "\n",
    "# 왼쪽 : 200\n",
    "# 오른쪽 : 100"
   ]
  },
  {
   "cell_type": "code",
   "execution_count": null,
   "id": "0656619e",
   "metadata": {},
   "outputs": [],
   "source": [
    "# 231\n",
    "\n",
    "def n_plus_1 (n) :\n",
    "    result = n + 1\n",
    "\n",
    "n_plus_1(3)\n",
    "print (result)\n",
    "\n",
    "# 함수 내부에서 사용한 변수는 함수 밖에서는 접근이 불가능하다.\n",
    "# 함수 내부에서 계산한 값을 외부로 전달하기 위해서는 return 문을 사용 "
   ]
  },
  {
   "cell_type": "code",
   "execution_count": 2,
   "id": "de02aac0",
   "metadata": {},
   "outputs": [
    {
     "data": {
      "text/plain": [
       "4"
      ]
     },
     "execution_count": 2,
     "metadata": {},
     "output_type": "execute_result"
    }
   ],
   "source": [
    "def hamsu(x,y):\n",
    "    result = x + y\n",
    "    return(result)\n",
    "\n",
    "hamsu(1,3)"
   ]
  },
  {
   "cell_type": "code",
   "execution_count": 8,
   "id": "84b0b323",
   "metadata": {},
   "outputs": [
    {
     "name": "stdout",
     "output_type": "stream",
     "text": [
      "www.naver.com\n"
     ]
    }
   ],
   "source": [
    "# 232\n",
    "\n",
    "def make_url(문자열):\n",
    "    print('www.'+문자열+'.com')\n",
    "\n",
    "\n",
    "make_url(\"naver\")"
   ]
  },
  {
   "cell_type": "code",
   "execution_count": 9,
   "id": "c39cf679",
   "metadata": {},
   "outputs": [
    {
     "name": "stdout",
     "output_type": "stream",
     "text": [
      "['a', 'b', 'c', 'd']\n"
     ]
    }
   ],
   "source": [
    "# 233 \n",
    "\n",
    "\n",
    "def make_list(string):\n",
    "    print(list(string))\n",
    "\n",
    "make_list(\"abcd\")"
   ]
  },
  {
   "cell_type": "code",
   "execution_count": 6,
   "id": "b255a389",
   "metadata": {},
   "outputs": [
    {
     "name": "stdout",
     "output_type": "stream",
     "text": [
      "[4, 6, 8]\n"
     ]
    }
   ],
   "source": [
    "# 234\n",
    "\n",
    "my_list = []\n",
    "\n",
    "def pickup_even(list):\n",
    "    for a in list:\n",
    "        if a % 2 == 0:\n",
    "            my_list.append(a)\n",
    "    print(my_list)       \n",
    "\n",
    "\n",
    "pickup_even([3, 4, 5, 6, 7, 8])\n"
   ]
  },
  {
   "cell_type": "code",
   "execution_count": 12,
   "id": "ef0478af",
   "metadata": {},
   "outputs": [
    {
     "name": "stdout",
     "output_type": "stream",
     "text": [
      "1234567\n"
     ]
    }
   ],
   "source": [
    "# 235\n",
    "\n",
    "def convert_int (문자열):\n",
    "    문자열 = 문자열.replace(',','')\n",
    "    print(int(문자열))\n",
    "    \n",
    "convert_int(\"1,234,567\")    "
   ]
  },
  {
   "cell_type": "code",
   "execution_count": null,
   "id": "ab201466",
   "metadata": {},
   "outputs": [],
   "source": [
    "# 236\n",
    "\n",
    "def 함수(num) :\n",
    "    return num + 4\n",
    "\n",
    "a = 함수(10)\n",
    "b = 함수(a)\n",
    "c = 함수(b)\n",
    "print(c)\n",
    "\n",
    "\n",
    "a = 14\n",
    "b = 18\n",
    "c = 22"
   ]
  },
  {
   "cell_type": "code",
   "execution_count": null,
   "id": "232a2c7b",
   "metadata": {},
   "outputs": [],
   "source": [
    "# 237\n",
    "\n",
    "def 함수(num) :\n",
    "    return num + 4\n",
    "\n",
    "c = 함수(함수(함수(10)))\n",
    "print(c)\n",
    "\n",
    "\n",
    "함수(10) = 14\n",
    "함수(함수10) = 18\n",
    "함수(함수(함수(10))) = 22"
   ]
  },
  {
   "cell_type": "code",
   "execution_count": null,
   "id": "b9ff8bf0",
   "metadata": {},
   "outputs": [],
   "source": [
    "# 238\n",
    "\n",
    "def 함수1(num) :\n",
    "    return num + 4\n",
    "\n",
    "def 함수2(num) :\n",
    "    return num * 10\n",
    "\n",
    "a = 함수1(10)\n",
    "c = 함수2(a)\n",
    "print(c)\n",
    "\n",
    "# 140"
   ]
  },
  {
   "cell_type": "code",
   "execution_count": null,
   "id": "afbfa26f",
   "metadata": {},
   "outputs": [],
   "source": [
    "# 239\n",
    "\n",
    "def 함수1(num) :\n",
    "    return num + 4\n",
    "\n",
    "def 함수2(num) :\n",
    "    num = num + 2\n",
    "    return 함수1(num)\n",
    "\n",
    "c = 함수2(10)\n",
    "print(c)\n",
    "\n",
    "# 16\n"
   ]
  },
  {
   "cell_type": "code",
   "execution_count": null,
   "id": "be3b5fbf",
   "metadata": {},
   "outputs": [],
   "source": [
    "# 240\n",
    "\n",
    "def 함수0(num) :\n",
    "    return num * 2\n",
    "\n",
    "def 함수1(num) :\n",
    "    return 함수0(num + 2)\n",
    "\n",
    "def 함수2(num) :\n",
    "    num = num + 10\n",
    "    return 함수1(num)\n",
    "\n",
    "c = 함수2(2)\n",
    "print(c)\n",
    "\n",
    "\n",
    "# 28"
   ]
  },
  {
   "cell_type": "code",
   "execution_count": 1,
   "id": "a401fbe8",
   "metadata": {},
   "outputs": [
    {
     "name": "stdout",
     "output_type": "stream",
     "text": [
      "2024-03-05 20:08:57.622816\n"
     ]
    }
   ],
   "source": [
    "# 241\n",
    "\n",
    "import datetime  # datetime은 현재 시간을 출력하는 모듈이다.\n",
    "\n",
    "now = datetime.datetime.now()  # datetime의 모듈을 갖고온 후에, datetime\n",
    "print(now)\n",
    "\n"
   ]
  },
  {
   "cell_type": "code",
   "execution_count": 2,
   "id": "78536732",
   "metadata": {},
   "outputs": [
    {
     "name": "stdout",
     "output_type": "stream",
     "text": [
      "<class 'datetime.datetime'>\n"
     ]
    }
   ],
   "source": [
    "# 242\n",
    "\n",
    "import datetime\n",
    "\n",
    "now = datetime.datetime.now()\n",
    "print(type(now))"
   ]
  },
  {
   "cell_type": "code",
   "execution_count": null,
   "id": "8d4e457e",
   "metadata": {},
   "outputs": [],
   "source": [
    "# 243\n",
    "\n",
    "import datetime\n",
    "\n",
    "now = \n",
    "\n",
    "\n",
    "\n",
    "# days는 datetime.timedelta 클래스의 생성자에 전달되는 인자 중 하나이다.\n",
    "# 이것은 timedelta 객체를 생성할 때 지정된 시간 간격의 일수를 나타낸다.\n",
    "# days는 생성된 timedelta 객체가 표현하는 시간 간격의 일수를 설정하는데 사용"
   ]
  },
  {
   "cell_type": "code",
   "execution_count": null,
   "id": "f2f197d8",
   "metadata": {},
   "outputs": [],
   "source": [
    "# 1-1\n",
    "\n",
    "# 1-2 \n",
    "print('주식은 대박이다.')\n",
    "\n",
    "# 1-3\n",
    "# print\n",
    "\n",
    "# 1-4 \n"
   ]
  },
  {
   "cell_type": "code",
   "execution_count": 1,
   "id": "bbe355e4",
   "metadata": {},
   "outputs": [
    {
     "name": "stdout",
     "output_type": "stream",
     "text": [
      "다음 주식: 89 0\n",
      "네이버 주식: 751 0\n"
     ]
    }
   ],
   "source": [
    "# 2-1\n",
    "\n",
    "print('다음 주식:', 89,000 * 100)\n",
    "print('네이버 주식:',751,000 * 100)"
   ]
  }
 ],
 "metadata": {
  "kernelspec": {
   "display_name": "Python 3 (ipykernel)",
   "language": "python",
   "name": "python3"
  },
  "language_info": {
   "codemirror_mode": {
    "name": "ipython",
    "version": 3
   },
   "file_extension": ".py",
   "mimetype": "text/x-python",
   "name": "python",
   "nbconvert_exporter": "python",
   "pygments_lexer": "ipython3",
   "version": "3.11.3"
  }
 },
 "nbformat": 4,
 "nbformat_minor": 5
}
